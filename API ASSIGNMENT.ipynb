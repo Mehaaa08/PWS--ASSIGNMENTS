{
 "cells": [
  {
   "cell_type": "code",
   "execution_count": null,
   "id": "1a237015-408f-4339-918e-9fce131d43b6",
   "metadata": {},
   "outputs": [],
   "source": [
    "# \n",
    "'''\n",
    "01:An API (Application Programming Interface) is a set of rules and protocols that allows different software applications to communicate and interact with each other. \n",
    "It defines the methods and data formats that one application can use to request information or perform actions from another application or services.\n",
    "\n",
    "eg:The Google Maps API allows developers to integrate Google Maps into their applications or websites, accessing map data and customizing the appearance and behavior of the maps.\n",
    "It enables applications to leverage Google's mapping capabilities without building everything from scratch.\n",
    "\n",
    "\n",
    "'''"
   ]
  },
  {
   "cell_type": "code",
   "execution_count": null,
   "id": "603b5061-10bb-4fd6-b19f-c7434e73cb78",
   "metadata": {},
   "outputs": [],
   "source": [
    "'''\n",
    "02:Advantages of using APIs:\n",
    "1. Enables easy integration: APIs allow different software systems to seamlessly communicate and interact, making it easier to integrate and connect various applications.\n",
    "2. Enhances functionality: APIs provide access to pre-built functionalities and services, allowing developers to add new features to their applications without reinventing the wheel.\n",
    "3. Promotes scalability: By utilizing APIs, developers can leverage external resources and services, enabling their applications to scale and handle increased traffic or demand.\n",
    "\n",
    "Disadvantages of using APIs:\n",
    "1. Dependency on external services: When relying on APIs, your application's functionality may be impacted if the API provider experiences downtime or makes changes to their API.\n",
    "2. Security concerns: APIs can introduce potential security vulnerabilities if not properly secured and validated. It's crucial to implement proper security measures when interacting with external APIs.\n",
    "3. Limited control: When using APIs, you are dependent on the functionality and limitations defined by the API provider. This can restrict your ability to customize certain aspects of your application according to your specific requirements.\n",
    "\n",
    "\n",
    "\n",
    "'''"
   ]
  },
  {
   "cell_type": "code",
   "execution_count": null,
   "id": "7baed794-e455-481e-8fae-a5f2da62ad41",
   "metadata": {},
   "outputs": [],
   "source": [
    "'''\n",
    "03:A Web API, or Web Application Programming Interface, is an API specifically designed to be used over the web. It allows web-based applications to communicate with each other by sending and receiving data using HTTP protocols.\n",
    "While API refers to a general set of rules for software communication, a Web API specifically focuses on web-based communication and is accessible through URLs\n",
    "\n",
    "''''"
   ]
  },
  {
   "cell_type": "code",
   "execution_count": null,
   "id": "9cd76f5c-a751-494b-8b8d-69e49f4ac8fc",
   "metadata": {},
   "outputs": [],
   "source": [
    "'''\n",
    "4:REST (Representational State Transfer) and SOAP (Simple Object Access Protocol) are two different architectural styles for designing web services.\n",
    "\n",
    "REST: It is an architectural style that uses standard HTTP methods like GET, POST, PUT, and DELETE to perform operations on resources.\n",
    "It emphasizes simplicity, scalability, and statelessness. RESTful APIs utilize URLs to represent resources and respond with data in common formats such as JSON or XML.\n",
    "\n",
    "SOAP: SOAP is a protocol that defines a set of rules for structuring messages and exchanging XML-based data over different protocols like HTTP, SMTP, or others.\n",
    "It relies heavily on XML and uses a rigid messaging structure with a predefined contract (WSDL) to define operations and data types.\n",
    "\n",
    "Shortcomings of SOAP:\n",
    "\n",
    "    Complexity: SOAP can be complex to implement and understand due to its extensive XML-based messaging structure.\n",
    "    Overhead: SOAP messages are larger compared to REST, which can lead to increased bandwidth consumption and slower performance.\n",
    "    Lack of flexibility: SOAP has a strict contract-based approach, making it less flexible for evolving systems or making ad-hoc changes.\n",
    "\n",
    "'''"
   ]
  },
  {
   "cell_type": "code",
   "execution_count": null,
   "id": "05435fdc-4b9b-43c1-81ed-bd5c4410242e",
   "metadata": {},
   "outputs": [],
   "source": [
    "'''\n",
    "05:REST:\n",
    "\n",
    "    Uses standard HTTP methods like GET, POST, PUT, DELETE.\n",
    "    Emphasizes simplicity, scalability, and statelessness.\n",
    "    Utilizes URLs to represent resources.\n",
    "    Responds with data in common formats like JSON or XML.\n",
    "    Lightweight and suitable for web-based applications.\n",
    "    Supports multiple formats, including JSON, XML, and others.\n",
    "\n",
    "SOAP:\n",
    "\n",
    "    Uses a predefined messaging structure with XML-based messages.\n",
    "    Relies on protocols like HTTP, SMTP, or others.\n",
    "    Requires a contract (WSDL) to define operations and data types.\n",
    "    Can be complex to implement and understand.\n",
    "    Messages are larger, leading to increased bandwidth consumption.\n",
    "    Suitable for enterprise-level applications with strict contracts and security requirements.\n",
    "\n",
    "'''"
   ]
  }
 ],
 "metadata": {
  "kernelspec": {
   "display_name": "Python 3 (ipykernel)",
   "language": "python",
   "name": "python3"
  },
  "language_info": {
   "codemirror_mode": {
    "name": "ipython",
    "version": 3
   },
   "file_extension": ".py",
   "mimetype": "text/x-python",
   "name": "python",
   "nbconvert_exporter": "python",
   "pygments_lexer": "ipython3",
   "version": "3.10.8"
  }
 },
 "nbformat": 4,
 "nbformat_minor": 5
}
