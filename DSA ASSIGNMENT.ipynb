{
 "cells": [
  {
   "cell_type": "code",
   "execution_count": 1,
   "id": "28f3b3a6-9e9b-4c95-aa4f-be70b3c6b415",
   "metadata": {},
   "outputs": [],
   "source": [
    "# 01\n",
    " SINGLE LINE COMMENT USING (#)\n",
    "    \n",
    " MULTILINE COMMENTS USIMG (' ''' ' OR ' \"\"\" ')\n"
   ]
  },
  {
   "cell_type": "code",
   "execution_count": 5,
   "id": "e40d24fa-f134-460b-9e26-059d086714e2",
   "metadata": {},
   "outputs": [
    {
     "data": {
      "text/plain": [
       "21"
      ]
     },
     "execution_count": 5,
     "metadata": {},
     "output_type": "execute_result"
    }
   ],
   "source": [
    "# 02\n",
    "\n",
    "# VARIABLES ARE NAMED TO THE VALUE REFERENCED BY USER TO PEFORMS ITS TASKS.\n",
    "\n",
    "# DECLARING A VARIABLE:\n",
    "\n",
    "name = \"meha upadhyay\"\n",
    "name\n",
    "\n",
    "age = 21\n",
    "age\n"
   ]
  },
  {
   "cell_type": "code",
   "execution_count": 18,
   "id": "3d6452b6-b890-49b2-94bf-b863e83e7681",
   "metadata": {},
   "outputs": [
    {
     "data": {
      "text/plain": [
       "4"
      ]
     },
     "execution_count": 18,
     "metadata": {},
     "output_type": "execute_result"
    }
   ],
   "source": [
    "#  03 \n",
    "\n",
    "# CONVERSION OF ONE DATATYPES IN PYTHON TO ANOTHER IS DONE THROUGH TYPECASTING\n",
    "\n",
    "x = 4.95\n",
    "y = int(x)\n",
    "y"
   ]
  },
  {
   "cell_type": "code",
   "execution_count": 19,
   "id": "b1e44e92-5409-4d69-8695-2c60a64adf60",
   "metadata": {},
   "outputs": [
    {
     "data": {
      "text/plain": [
       "99.0"
      ]
     },
     "execution_count": 19,
     "metadata": {},
     "output_type": "execute_result"
    }
   ],
   "source": [
    "a = 99\n",
    "b = float(a)\n",
    "b"
   ]
  },
  {
   "cell_type": "code",
   "execution_count": 20,
   "id": "ca7f7029-a481-4308-a2e6-2c0c0888fc4b",
   "metadata": {},
   "outputs": [
    {
     "data": {
      "text/plain": [
       "'10'"
      ]
     },
     "execution_count": 20,
     "metadata": {},
     "output_type": "execute_result"
    }
   ],
   "source": [
    "c = 10\n",
    "d = str(10)\n",
    "d"
   ]
  },
  {
   "cell_type": "code",
   "execution_count": 21,
   "id": "4923cd3b-cd74-43ea-bfe1-c37994582db8",
   "metadata": {},
   "outputs": [
    {
     "name": "stdout",
     "output_type": "stream",
     "text": [
      "[2, 3]\n"
     ]
    }
   ],
   "source": [
    "# 05\n",
    "\n",
    "my_list = [1, 2, 3, 4, 5]\n",
    "sub_list = my_list[1:3]\n",
    "print(sub_list)\n",
    "\n"
   ]
  },
  {
   "cell_type": "code",
   "execution_count": 28,
   "id": "1a3d28bb-6e77-4bd1-9c5a-0bf4be9a63d1",
   "metadata": {},
   "outputs": [
    {
     "name": "stdout",
     "output_type": "stream",
     "text": [
      "a1 (3+4j)\n"
     ]
    }
   ],
   "source": [
    "# 06\n",
    "\n",
    "# complex number = real + imaginary numbers\n",
    "\n",
    "\n"
   ]
  },
  {
   "cell_type": "code",
   "execution_count": 26,
   "id": "60d325de-7ef9-4578-ad7b-97f0aab24fcd",
   "metadata": {},
   "outputs": [],
   "source": [
    "# 07\n",
    "\n",
    " age = 25"
   ]
  },
  {
   "cell_type": "code",
   "execution_count": 29,
   "id": "e74e9539-7624-4d37-95f2-87a4112a6cff",
   "metadata": {},
   "outputs": [
    {
     "data": {
      "text/plain": [
       "float"
      ]
     },
     "execution_count": 29,
     "metadata": {},
     "output_type": "execute_result"
    }
   ],
   "source": [
    "#  08\n",
    "\n",
    "price = 9.99\n",
    "type(price)"
   ]
  },
  {
   "cell_type": "code",
   "execution_count": 30,
   "id": "00c82ff6-64a8-4edf-88fc-77f022afcff0",
   "metadata": {},
   "outputs": [
    {
     "name": "stdout",
     "output_type": "stream",
     "text": [
      "MEHA UPADHYAY\n"
     ]
    }
   ],
   "source": [
    "# 09\n",
    "\n",
    "name = \"MEHA UPADHYAY\"\n",
    "print(name)"
   ]
  },
  {
   "cell_type": "code",
   "execution_count": 35,
   "id": "15a425d9-12b2-4fb5-aaac-a440651226fb",
   "metadata": {},
   "outputs": [
    {
     "name": "stdout",
     "output_type": "stream",
     "text": [
      "Hello, World!\n"
     ]
    }
   ],
   "source": [
    "# 10\n",
    "\n",
    "s = \"Hello, World!\"\n",
    "substring = s[7:12]\n",
    "print(substri)\n"
   ]
  },
  {
   "cell_type": "code",
   "execution_count": null,
   "id": "4cd3aaae-cf76-41b9-9713-47c83d5cac7c",
   "metadata": {},
   "outputs": [],
   "source": []
  }
 ],
 "metadata": {
  "kernelspec": {
   "display_name": "Python 3 (ipykernel)",
   "language": "python",
   "name": "python3"
  },
  "language_info": {
   "codemirror_mode": {
    "name": "ipython",
    "version": 3
   },
   "file_extension": ".py",
   "mimetype": "text/x-python",
   "name": "python",
   "nbconvert_exporter": "python",
   "pygments_lexer": "ipython3",
   "version": "3.10.8"
  }
 },
 "nbformat": 4,
 "nbformat_minor": 5
}
