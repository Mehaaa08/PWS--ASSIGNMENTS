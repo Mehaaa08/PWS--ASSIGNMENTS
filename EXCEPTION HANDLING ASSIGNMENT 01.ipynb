{
 "cells": [
  {
   "cell_type": "code",
   "execution_count": 2,
   "id": "aed9f3a2-35de-4f3c-8b53-c995caeea8e5",
   "metadata": {},
   "outputs": [],
   "source": [
    "#01 exceptions are like unexpected problems or errors that can happen while a program is running.\n",
    "# By catching and handling them, we can keep the program running smoothly and deal with those problems in a controlled way.\n",
    "\n",
    "#     Exceptions: Exceptions are runtime errors that occur during the execution of a program.\n",
    "# They can be raised explicitly using the raise statement or occur implicitly due to various reasons like division by zero, accessing an undefined variable,\n",
    "# or opening a non-existent file. Exceptions can be caught and handled using try and except blocks.\n",
    "\n",
    "# Syntax Errors: Syntax errors, also known as parsing errors, occur when the Python interpreter encounters invalid or incorrect syntax in the code.\n",
    "# These errors prevent the program from being compiled or executed. Common examples of syntax errors include misspelled keywords, \n",
    "# missing colons or parentheses, or incorrect indentation."
   ]
  },
  {
   "cell_type": "code",
   "execution_count": 3,
   "id": "3c7478ee-846a-43b2-90d0-ae08c92e9946",
   "metadata": {},
   "outputs": [
    {
     "ename": "ZeroDivisionError",
     "evalue": "division by zero",
     "output_type": "error",
     "traceback": [
      "\u001b[0;31m---------------------------------------------------------------------------\u001b[0m",
      "\u001b[0;31mZeroDivisionError\u001b[0m                         Traceback (most recent call last)",
      "Cell \u001b[0;32mIn[3], line 6\u001b[0m\n\u001b[1;32m      1\u001b[0m \u001b[38;5;66;03m# 02 When an exception is not handled in Python, it leads to an unhandled exception, which can cause the program to terminate abruptly and display an error message\u001b[39;00m\n\u001b[1;32m      2\u001b[0m \n\u001b[1;32m      3\u001b[0m \n\u001b[1;32m      4\u001b[0m \u001b[38;5;66;03m# eg:\u001b[39;00m\n\u001b[0;32m----> 6\u001b[0m a \u001b[38;5;241m=\u001b[39m \u001b[38;5;241;43m10\u001b[39;49m\u001b[43m \u001b[49m\u001b[38;5;241;43m/\u001b[39;49m\u001b[43m \u001b[49m\u001b[38;5;241;43m0\u001b[39;49m  \n\u001b[1;32m      7\u001b[0m \u001b[38;5;28mprint\u001b[39m(\u001b[38;5;124m\"\u001b[39m\u001b[38;5;124ma\u001b[39m\u001b[38;5;124m\"\u001b[39m, a)\n",
      "\u001b[0;31mZeroDivisionError\u001b[0m: division by zero"
     ]
    }
   ],
   "source": [
    "# 02 When an exception is not handled in Python, it leads to an unhandled exception, which can cause the program to terminate abruptly and display an error message\n",
    "\n",
    "\n",
    "# eg:\n",
    "\n",
    "a = 10 / 0  \n",
    "print(\"a\", a)\n"
   ]
  },
  {
   "cell_type": "code",
   "execution_count": 5,
   "id": "b9efbaba-92f0-49df-94bc-d4bb6bf40ebf",
   "metadata": {},
   "outputs": [
    {
     "name": "stdout",
     "output_type": "stream",
     "text": [
      "Data written to the file successfully.\n",
      "File closed.\n"
     ]
    }
   ],
   "source": [
    "# 03:In Python, the try, except, else, and finally statements are used to handle exceptions.\n",
    "\n",
    "# eg:\n",
    "\n",
    "try:\n",
    "\n",
    "    file = open(\"example.txt\", \"w\")\n",
    "\n",
    "\n",
    "    file.write(\"Hello, World!\")\n",
    "\n",
    "except IOError:\n",
    "    print(\"Error: Failed to write to the file!\")\n",
    "\n",
    "else:\n",
    "    print(\"Data written to the file successfully.\")\n",
    "\n",
    "finally:\n",
    "    file.close()\n",
    "    print(\"File closed.\")\n",
    "\n"
   ]
  },
  {
   "cell_type": "code",
   "execution_count": 6,
   "id": "58c9e9ec-40d4-443e-855e-9e5591b50190",
   "metadata": {},
   "outputs": [
    {
     "name": "stdout",
     "output_type": "stream",
     "text": [
      "a 5.0\n"
     ]
    }
   ],
   "source": [
    "# 04 \n",
    "# 1.\n",
    "\n",
    "try:\n",
    "    a = 10 / 2\n",
    "except ZeroDivisionError:\n",
    "    print(\"Error: Division by zero is not allowed!\")\n",
    "else:\n",
    "    print(\"a\", a)\n"
   ]
  },
  {
   "cell_type": "code",
   "execution_count": 7,
   "id": "a18a67ba-04c2-4ca4-9d7d-bb7d803725c1",
   "metadata": {},
   "outputs": [
    {
     "name": "stdout",
     "output_type": "stream",
     "text": [
      "Error: File not found!\n"
     ]
    }
   ],
   "source": [
    "# 2\n",
    "\n",
    "try:\n",
    "    file = open(\"test.txt\", \"r\")\n",
    "    \n",
    "except FileNotFoundError:\n",
    "    print(\"Error: File not found!\")\n",
    "finally:\n",
    "    file.close()  \n"
   ]
  },
  {
   "cell_type": "code",
   "execution_count": 8,
   "id": "5f67dd4a-c678-4953-a821-06910c4ea6a5",
   "metadata": {},
   "outputs": [
    {
     "ename": "SyntaxError",
     "evalue": "invalid syntax (943364683.py, line 2)",
     "output_type": "error",
     "traceback": [
      "\u001b[0;36m  Cell \u001b[0;32mIn[8], line 2\u001b[0;36m\u001b[0m\n\u001b[0;31m    =\u001b[0m\n\u001b[0m    ^\u001b[0m\n\u001b[0;31mSyntaxError\u001b[0m\u001b[0;31m:\u001b[0m invalid syntax\n"
     ]
    }
   ],
   "source": [
    "# 3\n",
    "=\n",
    "\n",
    "def validate_age(age):\n",
    "    if age < 0:\n",
    "        raise ValueError(\"Age cannot be negative.\")\n",
    "    elif age < 18:\n",
    "        raise ValueError(\"Must be at least 18 years old.\")\n",
    "    else:\n",
    "        print(\"Age is valid.\")\n",
    "\n",
    "=\n",
    "try:\n",
    "    validate_age(25)   \n",
    "    validate_age(-5)   \n",
    "    validate_age(15)   \n",
    "except ValueError as e:\n",
    "    print(\"Error:\", e)\n"
   ]
  },
  {
   "cell_type": "code",
   "execution_count": 11,
   "id": "c90268ed-bde1-438d-bcd3-558bd8459684",
   "metadata": {},
   "outputs": [],
   "source": [
    "# 05 Custom exceptions in Python are user-defined exception classes that inherit from the base Exception class or its subclasses which is needed to\n",
    "# create your own specific exception types to handle exceptional situations that are specific to program'sneed.\n",
    "class HelloWorldException(Exception):\n",
    "    pass\n",
    "\n",
    "def print_hello_world():\n",
    "    try:\n",
    "        raise HelloWorldException(\"Custom Hello World Exception\")\n",
    "    except HelloWorldException as e:\n",
    "        print(\"Error:\", e)\n",
    "\n"
   ]
  },
  {
   "cell_type": "code",
   "execution_count": 10,
   "id": "e203400b-e503-432e-aeef-c35dd851f6b1",
   "metadata": {},
   "outputs": [
    {
     "name": "stdout",
     "output_type": "stream",
     "text": [
      "Error: Custom Hello World Exception\n"
     ]
    }
   ],
   "source": [
    "print_hello_world()\n"
   ]
  },
  {
   "cell_type": "code",
   "execution_count": 12,
   "id": "e10cc432-0e12-446f-94bc-506760b3c5a5",
   "metadata": {},
   "outputs": [],
   "source": [
    "# 06:\n",
    "class CustomException(Exception):\n",
    "    pass\n",
    "\n",
    "def divide_num(a, b):\n",
    "    try:\n",
    "        if b == 0:\n",
    "            raise CustomException(\"Division by zero is not allowed\")\n",
    "        else:\n",
    "            result = a / b\n",
    "            print(\"Result:\", result)\n",
    "    except CustomException as e:\n",
    "        print(\"Error:\", e)\n",
    "\n",
    "\n"
   ]
  },
  {
   "cell_type": "code",
   "execution_count": 13,
   "id": "70ba8e40-969a-42b3-9b68-017a8d38cbc4",
   "metadata": {},
   "outputs": [
    {
     "name": "stdout",
     "output_type": "stream",
     "text": [
      "Error: Division by zero is not allowed\n"
     ]
    }
   ],
   "source": [
    "divide_num(10, 0)"
   ]
  },
  {
   "cell_type": "code",
   "execution_count": null,
   "id": "ff533642-1faf-4fd9-9625-984f8047ec52",
   "metadata": {},
   "outputs": [],
   "source": []
  }
 ],
 "metadata": {
  "kernelspec": {
   "display_name": "Python 3 (ipykernel)",
   "language": "python",
   "name": "python3"
  },
  "language_info": {
   "codemirror_mode": {
    "name": "ipython",
    "version": 3
   },
   "file_extension": ".py",
   "mimetype": "text/x-python",
   "name": "python",
   "nbconvert_exporter": "python",
   "pygments_lexer": "ipython3",
   "version": "3.10.8"
  }
 },
 "nbformat": 4,
 "nbformat_minor": 5
}
