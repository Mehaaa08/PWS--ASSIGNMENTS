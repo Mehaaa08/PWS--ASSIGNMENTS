{
 "cells": [
  {
   "cell_type": "code",
   "execution_count": null,
   "id": "e26cb1b9-0513-4f1c-af2a-d520c96e829c",
   "metadata": {},
   "outputs": [],
   "source": [
    "'''\n",
    "01:Flask is a lightweight web framework for Python. It provides the tools and libraries needed to build web applications.\n",
    "\n",
    "Advantages of Flask:\n",
    "\n",
    "Simplicity: Flask is designed to be simple and easy to use, allowing developers to quickly build web applications with minimal boilerplate code.\n",
    "Flexibility: Flask provides a flexible and modular structure, allowing developers to choose the components they need and customize their applications according to specific requirements.\n",
    "Lightweight: Flask is a lightweight framework with a small codebase and minimal dependencies, resulting in faster performance and efficient resource usage.\n",
    "Extensibility: Flask offers a wide range of extensions and libraries that can be easily integrated into applications to add functionality such as database integration, authentication, and more.\n",
    "Pythonic: Flask follows the principles of Python, leveraging the simplicity and readability of the language, making it easier for Python developers to work with and understand.\n",
    "\n",
    "\n",
    "'''"
   ]
  },
  {
   "cell_type": "code",
   "execution_count": null,
   "id": "9e92d658-868d-4075-978c-3d64357955f9",
   "metadata": {},
   "outputs": [],
   "source": [
    "'''\n",
    "03:App routing in Flask maps URLs to specific functions, allowing you to handle incoming requests and define different pages or API endpoints.\n",
    "Each route is associated with a function that executes when the URL is accessed. \n",
    "It helps organize and structure your application, making it easier to handle different requests.\n",
    "\n",
    "\n",
    "\n",
    "\n",
    "'''"
   ]
  },
  {
   "cell_type": "code",
   "execution_count": null,
   "id": "141dee84-04a5-4e99-bdae-dc6142061173",
   "metadata": {},
   "outputs": [],
   "source": [
    "# 04: screenshots named are:04-welcomeone and 04-infoaboutcooperation"
   ]
  },
  {
   "cell_type": "code",
   "execution_count": null,
   "id": "98442893-5c0e-451c-9f3d-00d946723669",
   "metadata": {},
   "outputs": [],
   "source": [
    "# 05:screenshots are flask last questions,profile,urlredirect,homepage,about"
   ]
  },
  {
   "cell_type": "code",
   "execution_count": null,
   "id": "1707494f-083f-478a-bab6-b10e5e470546",
   "metadata": {},
   "outputs": [],
   "source": [
    "#02:screenshots named are flask01\n",
    "\n"
   ]
  }
 ],
 "metadata": {
  "kernelspec": {
   "display_name": "Python 3 (ipykernel)",
   "language": "python",
   "name": "python3"
  },
  "language_info": {
   "codemirror_mode": {
    "name": "ipython",
    "version": 3
   },
   "file_extension": ".py",
   "mimetype": "text/x-python",
   "name": "python",
   "nbconvert_exporter": "python",
   "pygments_lexer": "ipython3",
   "version": "3.10.8"
  }
 },
 "nbformat": 4,
 "nbformat_minor": 5
}
