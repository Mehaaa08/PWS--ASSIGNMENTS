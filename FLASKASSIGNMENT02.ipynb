{
 "cells": [
  {
   "cell_type": "code",
   "execution_count": null,
   "id": "9d8d020d-fa13-4c3f-8524-40f83372d0aa",
   "metadata": {},
   "outputs": [],
   "source": [
    "# 01:\n",
    "'''GET: The GET method is used to retrieve data from a server. It is primarily used for reading or fetching information.\n",
    "When a client sends a GET request, it asks the server to return a representation of a resource specified by the URL.\n",
    "The parameters, if any, are sent in the URL itself. GET requests are considered safe and idempotent, meaning multiple identical requests have the same effect as a single request and do not have side effects on the server.\n",
    "\n",
    "POST: The POST method is used to submit data to be processed by the server. It is commonly used for creating or updating resources on the server.\n",
    "When a client sends a POST request, it includes the data to be processed in the body of the request. Unlike GET requests, POST requests are not idempotent, meaning that multiple identical requests can have different effects on the server.\n",
    "POST requests are typically used when you need to send sensitive or large amounts of data that should not be exposed in the URL.\n",
    "'''"
   ]
  },
  {
   "cell_type": "code",
   "execution_count": null,
   "id": "deacda02-0a51-4808-ae7a-dc97068af63e",
   "metadata": {},
   "outputs": [],
   "source": [
    "# 02\n",
    "'''\n",
    "The `request` object in Flask is used to access incoming request data, such as headers, URL parameters, and form data. \n",
    "It allows you to retrieve and manipulate this data within your Flask application. Here are some examples of how you can use the `request` object:\n",
    "\n",
    "- `request.method`: This attribute returns the HTTP request method used (e.g., GET, POST).\n",
    "- `request.args`: This attribute provides access to the URL parameters passed in the request.\n",
    "- `request.form`: This attribute allows you to access form data submitted in the request body.\n",
    "- `request.headers`: This attribute gives you access to the request headers sent by the client.\n",
    "\n",
    "\n",
    "'''"
   ]
  },
  {
   "cell_type": "code",
   "execution_count": null,
   "id": "4cab1888-4210-4a60-b430-3002a0946157",
   "metadata": {},
   "outputs": [],
   "source": [
    "# 03\n",
    "'''\n",
    "The `redirect()` function in Flask is used to perform a redirect to a different route or URL.\n",
    "It returns an HTTP response with a 302 status code, indicating a temporary redirect. This function is useful when you want to send the user to another page after a specific action, such as a successful form submission. You can provide the destination as an argument to the `redirect()` function, which can be a URL or the name of a Flask route.\n",
    "The user's browser will then be redirected to the specified destination.\n",
    "\n",
    "\n",
    "\n",
    "\n",
    "'''"
   ]
  },
  {
   "cell_type": "code",
   "execution_count": null,
   "id": "f2849d46-3a71-4f41-a54e-fd908fc74ec0",
   "metadata": {},
   "outputs": [],
   "source": []
  }
 ],
 "metadata": {
  "kernelspec": {
   "display_name": "Python 3 (ipykernel)",
   "language": "python",
   "name": "python3"
  },
  "language_info": {
   "codemirror_mode": {
    "name": "ipython",
    "version": 3
   },
   "file_extension": ".py",
   "mimetype": "text/x-python",
   "name": "python",
   "nbconvert_exporter": "python",
   "pygments_lexer": "ipython3",
   "version": "3.10.8"
  }
 },
 "nbformat": 4,
 "nbformat_minor": 5
}
