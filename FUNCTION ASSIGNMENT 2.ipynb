{
 "cells": [
  {
   "cell_type": "code",
   "execution_count": 7,
   "id": "57dbbade-7b4e-44aa-ac44-2ece5e01de64",
   "metadata": {},
   "outputs": [
    {
     "name": "stdout",
     "output_type": "stream",
     "text": [
      "[('Virat Kohli', 24936), ('Jack Kallis', 25534), ('Ricky Ponting', 27483), ('Sachin Tendulkar', 34357)]\n"
     ]
    }
   ],
   "source": [
    "# 01\n",
    "l1 = [('Sachin Tendulkar', 34357), ('Ricky Ponting', 27483), ('Jack Kallis', 25534), ('Virat Kohli', 24936)]\n",
    "int_value = lambda x: x[1]\n",
    "l1.sort(key = int_value)\n",
    "\n",
    "print(l1)"
   ]
  },
  {
   "cell_type": "code",
   "execution_count": 9,
   "id": "eb1c788e-34a5-4e57-a163-5119d17ec4cf",
   "metadata": {},
   "outputs": [
    {
     "name": "stdout",
     "output_type": "stream",
     "text": [
      "[1, 4, 9, 16, 25, 36, 49, 64, 81, 100]\n"
     ]
    }
   ],
   "source": [
    "# 02\n",
    "\n",
    "l1= [1, 2, 3, 4, 5, 6, 7, 8, 9, 10]\n",
    "s_num = lambda x: x * x\n",
    "s = list(map(s_num, l1))\n",
    "print(s)\n"
   ]
  },
  {
   "cell_type": "code",
   "execution_count": 11,
   "id": "b936228a-3f2a-4285-b35f-77aa65cd19f4",
   "metadata": {},
   "outputs": [
    {
     "name": "stdout",
     "output_type": "stream",
     "text": [
      "('1', '2', '3', '4', '5', '6', '7', '8', '9', '10')\n"
     ]
    }
   ],
   "source": [
    "# 03\n",
    "l2 = [1, 2, 3, 4, 5, 6, 7, 8, 9, 10]\n",
    "s = lambda x: str(x)\n",
    "t= tuple(map(s, l2))\n",
    "print(t)\n"
   ]
  },
  {
   "cell_type": "code",
   "execution_count": 13,
   "id": "2a302bc0-5bdc-4c25-9b45-87fadc3e86dc",
   "metadata": {},
   "outputs": [],
   "source": [
    "#4\n",
    "from functools import reduce\n"
   ]
  },
  {
   "cell_type": "code",
   "execution_count": 18,
   "id": "00ba05df-f0e5-4623-a7e0-97efa5dcfcdc",
   "metadata": {},
   "outputs": [],
   "source": [
    "\n",
    "l4 = list(range(1, 26))\n",
    "a = reduce(lambda x, y: x * y, l4)\n",
    "\n",
    "\n"
   ]
  },
  {
   "cell_type": "code",
   "execution_count": 20,
   "id": "6d09d6e4-a328-4f7e-a88a-fb952d764a47",
   "metadata": {},
   "outputs": [
    {
     "name": "stdout",
     "output_type": "stream",
     "text": [
      "15511210043330985984000000\n"
     ]
    }
   ],
   "source": [
    "print(a)"
   ]
  },
  {
   "cell_type": "code",
   "execution_count": 28,
   "id": "6e32d202-5322-46a3-931d-f894250e0424",
   "metadata": {},
   "outputs": [
    {
     "name": "stdout",
     "output_type": "stream",
     "text": [
      "[6, 60, 90, 120]\n"
     ]
    }
   ],
   "source": [
    "# 05\n",
    "n = [2, 3, 6, 9, 27, 60, 90, 120, 55, 46]\n",
    "\n",
    "is_n = lambda x: x % 2 == 0 and x % 3 == 0\n",
    "\n",
    "b = filter(is_n,n)\n",
    "\n",
    "c = list(b)\n",
    "\n",
    "print(c)\n"
   ]
  },
  {
   "cell_type": "code",
   "execution_count": 26,
   "id": "30bc0aab-8bdb-4172-90c5-5e27ee0d6640",
   "metadata": {},
   "outputs": [
    {
     "name": "stdout",
     "output_type": "stream",
     "text": [
      "['php', 'aba', 'radar', 'level']\n"
     ]
    }
   ],
   "source": [
    "#06 \n",
    "a = ['python','php','aba','radar','level']\n",
    "\n",
    "is_palindrome = lambda x: x == x[::-1]\n",
    "\n",
    "\n",
    "palindromes = filter(is_palindrome, a)\n",
    "\n",
    "palindromes_list = list(palindromes)\n",
    "\n",
    "print(palindromes_list)\n"
   ]
  }
 ],
 "metadata": {
  "kernelspec": {
   "display_name": "Python 3 (ipykernel)",
   "language": "python",
   "name": "python3"
  },
  "language_info": {
   "codemirror_mode": {
    "name": "ipython",
    "version": 3
   },
   "file_extension": ".py",
   "mimetype": "text/x-python",
   "name": "python",
   "nbconvert_exporter": "python",
   "pygments_lexer": "ipython3",
   "version": "3.10.8"
  }
 },
 "nbformat": 4,
 "nbformat_minor": 5
}
