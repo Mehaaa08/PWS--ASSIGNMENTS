{
 "cells": [
  {
   "cell_type": "code",
   "execution_count": 3,
   "id": "2866e860-acff-4dfd-96f5-20dd97530519",
   "metadata": {},
   "outputs": [],
   "source": [
    "# 01 DEF IS USED TO CREATE A FUNCTION\n",
    "\n",
    "def test_odd():\n",
    "    l=[]\n",
    "    for i in range(0,26):\n",
    "        if i % 2 != 0 :\n",
    "            l.append(i)\n",
    "    return l"
   ]
  },
  {
   "cell_type": "code",
   "execution_count": 5,
   "id": "3aa65eff-981f-4d4c-962a-903d0fbc74c7",
   "metadata": {},
   "outputs": [
    {
     "data": {
      "text/plain": [
       "[1, 3, 5, 7, 9, 11, 13, 15, 17, 19, 21, 23, 25]"
      ]
     },
     "execution_count": 5,
     "metadata": {},
     "output_type": "execute_result"
    }
   ],
   "source": [
    "test_odd()"
   ]
  },
  {
   "cell_type": "code",
   "execution_count": 6,
   "id": "6fb6932b-f927-494d-9d27-e2d63cefdf58",
   "metadata": {},
   "outputs": [],
   "source": [
    "# 02 *args = here asterik is used to pass n numbers of arguments  & args isnt keyword\n",
    "# **kwargs= it is used to pass arguments as key value pair\n",
    "\n",
    "\n",
    "def test1(c,d,a=3,b=4):\n",
    "    return(a,b,c,d)\n"
   ]
  },
  {
   "cell_type": "code",
   "execution_count": 8,
   "id": "7b754e77-4420-4878-99a6-771f5e4e198b",
   "metadata": {},
   "outputs": [
    {
     "data": {
      "text/plain": [
       "(3, 4, 55, 90)"
      ]
     },
     "execution_count": 8,
     "metadata": {},
     "output_type": "execute_result"
    }
   ],
   "source": [
    "test1(c=55,d=90)"
   ]
  },
  {
   "cell_type": "code",
   "execution_count": 11,
   "id": "7816937c-3a54-4f8a-a9e8-2ab49ed24a94",
   "metadata": {},
   "outputs": [],
   "source": [
    "# **kwargs\n",
    "\n",
    "def test2(**meha):\n",
    "    return meha\n",
    "\n"
   ]
  },
  {
   "cell_type": "code",
   "execution_count": 12,
   "id": "b4c77c54-bfa3-4f1a-aea7-c99959840db5",
   "metadata": {},
   "outputs": [
    {
     "data": {
      "text/plain": [
       "dict"
      ]
     },
     "execution_count": 12,
     "metadata": {},
     "output_type": "execute_result"
    }
   ],
   "source": [
    "type(test2())"
   ]
  },
  {
   "cell_type": "code",
   "execution_count": 14,
   "id": "3f051507-c5e0-43cc-9279-7566f8217dde",
   "metadata": {},
   "outputs": [
    {
     "data": {
      "text/plain": [
       "{'a': [5, 6], 'b': 'mehaupadhyay', 'c': 66}"
      ]
     },
     "execution_count": 14,
     "metadata": {},
     "output_type": "execute_result"
    }
   ],
   "source": [
    "test2(a = [5,6] , b = \"mehaupadhyay\" , c = 66)"
   ]
  },
  {
   "cell_type": "code",
   "execution_count": 15,
   "id": "ffac8498-4a0e-4776-81cd-69bd64b47ca0",
   "metadata": {},
   "outputs": [
    {
     "name": "stdout",
     "output_type": "stream",
     "text": [
      "2\n",
      "4\n",
      "6\n",
      "8\n",
      "10\n"
     ]
    }
   ],
   "source": [
    "# 03 iterator: here next() and iter() are used to implement iterator on iterbles.\n",
    "l1= [2, 4, 6, 8, 10, 12, 14, 16, 18, 20]\n",
    "s= iter(l1)\n",
    "\n",
    "for i in range(5):\n",
    "    a = next(s)\n",
    "    print(a)\n"
   ]
  },
  {
   "cell_type": "code",
   "execution_count": 38,
   "id": "790d3f32-173d-48eb-9c5c-6f472a3a73ad",
   "metadata": {},
   "outputs": [
    {
     "name": "stdout",
     "output_type": "stream",
     "text": [
      "0\n",
      "1\n",
      "2\n",
      "3\n",
      "4\n",
      "5\n",
      "6\n",
      "7\n",
      "8\n",
      "9\n"
     ]
    }
   ],
   "source": [
    "# 04 GENERATOR FUNCTIONS IS USED TO REDUCE A MEMORY FUNCTION .\n",
    "\n",
    "# YIELD KEYWORD IS USED FOR GENERATOR function\n",
    "def test1():\n",
    "    for i in range(10):\n",
    "        yield i\n",
    "\n",
    "for n in test1():\n",
    "    print(n)\n",
    "\n",
    "\n",
    "\n",
    "\n"
   ]
  },
  {
   "cell_type": "code",
   "execution_count": null,
   "id": "84e49f77-3341-418a-890f-c09e5e8243cd",
   "metadata": {},
   "outputs": [],
   "source": [
    "\n",
    "#05 \n",
    "\n",
    "\n"
   ]
  },
  {
   "cell_type": "code",
   "execution_count": 44,
   "id": "6e52147d-c24d-48fe-bde6-57fd14116753",
   "metadata": {},
   "outputs": [
    {
     "name": "stdout",
     "output_type": "stream",
     "text": [
      "0\n",
      "1\n",
      "1\n",
      "2\n",
      "3\n",
      "5\n",
      "8\n",
      "13\n",
      "21\n",
      "34\n"
     ]
    }
   ],
   "source": [
    "# 06\n",
    "def fib(n):\n",
    "    a, b = 0, 1\n",
    "    while n > 0:\n",
    "        a, b = b, a + b\n",
    "        n -= 1\n",
    "    return a\n",
    "\n",
    "for i in range(10):\n",
    "    print(fib(i))"
   ]
  },
  {
   "cell_type": "code",
   "execution_count": 55,
   "id": "ac63463e-8929-4296-9c09-565fef96981d",
   "metadata": {},
   "outputs": [
    {
     "name": "stdout",
     "output_type": "stream",
     "text": [
      "['pwskills']\n"
     ]
    }
   ],
   "source": [
    "l1 = \"pwskills\"\n",
    "\n",
    "for char in list_:\n",
    "    print(char)\n"
   ]
  },
  {
   "cell_type": "code",
   "execution_count": 54,
   "id": "16ad1a2e-d09b-49d7-91c5-1c50ad277d1f",
   "metadata": {},
   "outputs": [
    {
     "name": "stdin",
     "output_type": "stream",
     "text": [
      "Enter a number:  55\n"
     ]
    },
    {
     "name": "stdout",
     "output_type": "stream",
     "text": [
      "The number is a palindrome.\n"
     ]
    }
   ],
   "source": [
    "# 08 Palindrome number :number which can be read same from front and back\n",
    "def is_palindrome(z):\n",
    "    original_num = z\n",
    "    reverse_num = 0\n",
    "\n",
    "    while z > 0:\n",
    "        r = z % 10\n",
    "        reverse_num = reverse_num * 10 + r\n",
    "        z //= 10\n",
    "\n",
    "    return original_num == reverse_num\n",
    "\n",
    "\n",
    "z= int(input(\"Enter a number: \"))\n",
    "\n",
    "if is_palindrome(z):\n",
    "    print(\"The number is a palindrome.\")\n",
    "else:\n",
    "    print(\"The number is not a palindrome.\")\n"
   ]
  },
  {
   "cell_type": "code",
   "execution_count": 52,
   "id": "53af8769-a8a3-439f-9680-0c3a0a003dee",
   "metadata": {},
   "outputs": [
    {
     "name": "stdout",
     "output_type": "stream",
     "text": [
      "1\n",
      "3\n",
      "5\n",
      "7\n",
      "9\n",
      "11\n",
      "13\n",
      "15\n",
      "17\n",
      "19\n",
      "21\n",
      "23\n",
      "25\n",
      "27\n",
      "29\n",
      "31\n",
      "33\n",
      "35\n",
      "37\n",
      "39\n",
      "41\n",
      "43\n",
      "45\n",
      "47\n",
      "49\n",
      "51\n",
      "53\n",
      "55\n",
      "57\n",
      "59\n",
      "61\n",
      "63\n",
      "65\n",
      "67\n",
      "69\n",
      "71\n",
      "73\n",
      "75\n",
      "77\n",
      "79\n",
      "81\n",
      "83\n",
      "85\n",
      "87\n",
      "89\n",
      "91\n",
      "93\n",
      "95\n",
      "97\n",
      "99\n"
     ]
    }
   ],
   "source": [
    "# 09\n",
    "odd_num = []\n",
    "\n",
    "for a in range(1, 101):\n",
    "    if a % 2 != 0:\n",
    "        odd_num.append(a)\n",
    "\n",
    "for a in odd_num:\n",
    "    print(a)\n",
    "\n",
    "\n",
    "\n"
   ]
  },
  {
   "cell_type": "code",
   "execution_count": null,
   "id": "39b19c41-49ec-493c-bb6b-3cd87b80efd1",
   "metadata": {},
   "outputs": [],
   "source": []
  }
 ],
 "metadata": {
  "kernelspec": {
   "display_name": "Python 3 (ipykernel)",
   "language": "python",
   "name": "python3"
  },
  "language_info": {
   "codemirror_mode": {
    "name": "ipython",
    "version": 3
   },
   "file_extension": ".py",
   "mimetype": "text/x-python",
   "name": "python",
   "nbconvert_exporter": "python",
   "pygments_lexer": "ipython3",
   "version": "3.10.8"
  }
 },
 "nbformat": 4,
 "nbformat_minor": 5
}
