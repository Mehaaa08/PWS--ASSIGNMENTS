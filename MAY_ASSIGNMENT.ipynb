{
 "cells": [
  {
   "cell_type": "code",
   "execution_count": 1,
   "id": "b34824d7-ca71-4d80-b878-450137ccd017",
   "metadata": {},
   "outputs": [],
   "source": [
    "# 01 A variable containing various datatypes\n",
    "\n",
    "meha_list = [\"hey its meha here\",3.14,(2,4)]"
   ]
  },
  {
   "cell_type": "code",
   "execution_count": 5,
   "id": "a841e8bd-f9f4-4d15-b488-6277e930721c",
   "metadata": {},
   "outputs": [],
   "source": [
    "#  02\n",
    "\n",
    "var1 = ''\n",
    "var2 = '[DS,PYTHON,ML]'\n",
    "var3 = ['DS,PYTHON,ML']\n",
    "var4 = 1\n",
    "\n"
   ]
  },
  {
   "cell_type": "code",
   "execution_count": 6,
   "id": "b6d3cdbe-37c2-430c-b082-b6d386023096",
   "metadata": {},
   "outputs": [
    {
     "data": {
      "text/plain": [
       "str"
      ]
     },
     "execution_count": 6,
     "metadata": {},
     "output_type": "execute_result"
    }
   ],
   "source": [
    "type(var1)"
   ]
  },
  {
   "cell_type": "code",
   "execution_count": 7,
   "id": "574ebbb7-17b5-4599-8e17-b97ea100918f",
   "metadata": {},
   "outputs": [
    {
     "data": {
      "text/plain": [
       "str"
      ]
     },
     "execution_count": 7,
     "metadata": {},
     "output_type": "execute_result"
    }
   ],
   "source": [
    "type(var2)"
   ]
  },
  {
   "cell_type": "code",
   "execution_count": 8,
   "id": "bd43876c-8637-4194-807e-bb289bdff003",
   "metadata": {},
   "outputs": [
    {
     "data": {
      "text/plain": [
       "list"
      ]
     },
     "execution_count": 8,
     "metadata": {},
     "output_type": "execute_result"
    }
   ],
   "source": [
    "type(var3)"
   ]
  },
  {
   "cell_type": "code",
   "execution_count": 9,
   "id": "f1310c8a-31cd-4b28-85a4-3e4dcb6c9e21",
   "metadata": {},
   "outputs": [
    {
     "data": {
      "text/plain": [
       "int"
      ]
     },
     "execution_count": 9,
     "metadata": {},
     "output_type": "execute_result"
    }
   ],
   "source": [
    "type(var4)"
   ]
  },
  {
   "cell_type": "code",
   "execution_count": 15,
   "id": "f083297d-804f-4c54-a311-60d23478a1e9",
   "metadata": {},
   "outputs": [],
   "source": [
    "# 03\n",
    "a = 2\n",
    "b = 4\n",
    "c = a / b\n",
    "d = a % b\n",
    "e = a // b\n",
    "f = a ** b\n"
   ]
  },
  {
   "cell_type": "code",
   "execution_count": 16,
   "id": "4e748502-730f-4263-a2e4-139635025bcd",
   "metadata": {},
   "outputs": [
    {
     "name": "stdout",
     "output_type": "stream",
     "text": [
      "0.5\n"
     ]
    }
   ],
   "source": [
    "print(c)"
   ]
  },
  {
   "cell_type": "code",
   "execution_count": 17,
   "id": "609ff255-c0e2-4a56-8108-2f6f37a0b2ea",
   "metadata": {},
   "outputs": [
    {
     "name": "stdout",
     "output_type": "stream",
     "text": [
      "2\n"
     ]
    }
   ],
   "source": [
    "print(d)"
   ]
  },
  {
   "cell_type": "code",
   "execution_count": 18,
   "id": "4ad6075e-0e89-4465-970a-4368e83da2b9",
   "metadata": {},
   "outputs": [
    {
     "name": "stdout",
     "output_type": "stream",
     "text": [
      "0\n"
     ]
    }
   ],
   "source": [
    "print(e)"
   ]
  },
  {
   "cell_type": "code",
   "execution_count": 19,
   "id": "95bad0b5-5c79-4a8d-ad20-38632f5cf40b",
   "metadata": {},
   "outputs": [
    {
     "name": "stdout",
     "output_type": "stream",
     "text": [
      "16\n"
     ]
    }
   ],
   "source": [
    "print(f)"
   ]
  },
  {
   "cell_type": "code",
   "execution_count": 24,
   "id": "c018aa49-cdf1-4250-bc42-b4cc14b48d92",
   "metadata": {},
   "outputs": [
    {
     "name": "stdout",
     "output_type": "stream",
     "text": [
      "<class 'int'>\n",
      "<class 'int'>\n",
      "<class 'int'>\n",
      "<class 'int'>\n",
      "<class 'int'>\n",
      "<class 'str'>\n",
      "<class 'str'>\n",
      "<class 'str'>\n",
      "<class 'float'>\n",
      "<class 'bool'>\n"
     ]
    }
   ],
   "source": [
    "# 04 \n",
    "\n",
    "meha_list = [2,4,6,7,8,\"pwskill\",\"sudhansh sir\",\"my first python assignment\",3.14,True]\n",
    "for a in meha_list:\n",
    "    print(type(a))"
   ]
  },
  {
   "cell_type": "code",
   "execution_count": 29,
   "id": "8673472a-66a0-4108-b14e-7fd7836078a3",
   "metadata": {},
   "outputs": [
    {
     "name": "stdout",
     "output_type": "stream",
     "text": [
      "3 is divisible by 3\n",
      "4 is not divisible by 3\n",
      "5 is not divisible by 3\n",
      "6 is divisible by 3\n",
      "7 is not divisible by 3\n",
      "8 is not divisible by 3\n",
      "9 is divisible by 3\n",
      "10 is not divisible by 3\n",
      "11 is not divisible by 3\n",
      "12 is divisible by 3\n",
      "13 is not divisible by 3\n",
      "14 is not divisible by 3\n",
      "15 is divisible by 3\n",
      "16 is not divisible by 3\n",
      "17 is not divisible by 3\n",
      "18 is divisible by 3\n",
      "19 is not divisible by 3\n",
      "20 is not divisible by 3\n",
      "21 is divisible by 3\n",
      "22 is not divisible by 3\n",
      "23 is not divisible by 3\n",
      "24 is divisible by 3\n",
      "25 is not divisible by 3\n",
      "26 is not divisible by 3\n",
      "27 is divisible by 3\n",
      "28 is not divisible by 3\n"
     ]
    }
   ],
   "source": [
    "# 06\n",
    "meha_list = [3,4,5,6,7,8,9,10,11,12,13,14,15,16,17,18,19,20,21,22,23,24,25,26,27,28]\n",
    "\n",
    "for n in meha_list:\n",
    "    if n % 3 == 0:\n",
    "        print(n, \"is divisible by 3\")\n",
    "    else:\n",
    "        print(n, \"is not divisible by 3\")\n"
   ]
  },
  {
   "cell_type": "code",
   "execution_count": 30,
   "id": "b7c08db9-4907-4db1-be37-e13e10926279",
   "metadata": {},
   "outputs": [
    {
     "name": "stdout",
     "output_type": "stream",
     "text": [
      "[2, 3, 4, 'meha', 'upadhyay']\n"
     ]
    }
   ],
   "source": [
    "#  07 \n",
    "# MUTABLE DATATYPES CAN EASILY BE MODIFIED AND CHANGED,WHICH MEANS ITS VALUE CAN BE ALTER, CAN ADD,UPDATE .\n",
    "# EXAMPLE OF MUTABLE DATAYPES ARE LISTS\n",
    "b = [ 2 , 3 , 4 ,\"meha\" , \"upadhyay\"]\n",
    "print(b)"
   ]
  },
  {
   "cell_type": "code",
   "execution_count": 31,
   "id": "14350ddd-71a8-4e0d-8e4b-3375c2767f72",
   "metadata": {},
   "outputs": [
    {
     "data": {
      "text/plain": [
       "[2, 3, 4, 'meha', 'upadhyay']"
      ]
     },
     "execution_count": 31,
     "metadata": {},
     "output_type": "execute_result"
    }
   ],
   "source": [
    "#  in list you can change the value \n",
    "b"
   ]
  },
  {
   "cell_type": "code",
   "execution_count": 34,
   "id": "80af3240-2f99-4ccf-b794-1482862ab50e",
   "metadata": {},
   "outputs": [],
   "source": [
    "b[4] = \"ritu\""
   ]
  },
  {
   "cell_type": "code",
   "execution_count": 35,
   "id": "83328b2e-6d49-4dc6-9534-7e6ed5c88abe",
   "metadata": {},
   "outputs": [
    {
     "data": {
      "text/plain": [
       "[2, 3, 4, 'meha', 'ritu']"
      ]
     },
     "execution_count": 35,
     "metadata": {},
     "output_type": "execute_result"
    }
   ],
   "source": [
    "b"
   ]
  },
  {
   "cell_type": "code",
   "execution_count": 36,
   "id": "a2974585-7572-4032-b575-0cc259d451cf",
   "metadata": {},
   "outputs": [
    {
     "data": {
      "text/plain": [
       "'meha'"
      ]
     },
     "execution_count": 36,
     "metadata": {},
     "output_type": "execute_result"
    }
   ],
   "source": [
    "# forward indexing\n",
    "\n",
    "b [-2]"
   ]
  },
  {
   "cell_type": "code",
   "execution_count": 37,
   "id": "ef92aea5-7204-47ff-baa5-527a08ee7c9c",
   "metadata": {},
   "outputs": [
    {
     "data": {
      "text/plain": [
       "'meha'"
      ]
     },
     "execution_count": 37,
     "metadata": {},
     "output_type": "execute_result"
    }
   ],
   "source": [
    "# backward indexing\n",
    "\n",
    "b[3]"
   ]
  },
  {
   "cell_type": "code",
   "execution_count": 40,
   "id": "04f32477-c9bf-43a2-9227-99abf2ade3a5",
   "metadata": {},
   "outputs": [
    {
     "name": "stdout",
     "output_type": "stream",
     "text": [
      "PWSKILLS\n"
     ]
    }
   ],
   "source": [
    "# IMMUTABLE: WHICH CANNOT BE CHANGED,UPDATE & ALTER\n",
    "\n",
    "# string is an example of immutable\n",
    "b = \"PWSKILLS\"\n",
    "print(b)\n"
   ]
  },
  {
   "cell_type": "code",
   "execution_count": 42,
   "id": "b1aeee73-6b35-40c8-9211-28e22be3f157",
   "metadata": {},
   "outputs": [
    {
     "ename": "TypeError",
     "evalue": "'str' object does not support item assignment",
     "output_type": "error",
     "traceback": [
      "\u001b[0;31m---------------------------------------------------------------------------\u001b[0m",
      "\u001b[0;31mTypeError\u001b[0m                                 Traceback (most recent call last)",
      "Cell \u001b[0;32mIn[42], line 1\u001b[0m\n\u001b[0;32m----> 1\u001b[0m \u001b[43mb\u001b[49m\u001b[43m[\u001b[49m\u001b[38;5;241;43m2\u001b[39;49m\u001b[43m]\u001b[49m \u001b[38;5;241m=\u001b[39m \u001b[38;5;124m'\u001b[39m\u001b[38;5;124mc\u001b[39m\u001b[38;5;124m'\u001b[39m\n",
      "\u001b[0;31mTypeError\u001b[0m: 'str' object does not support item assignment"
     ]
    }
   ],
   "source": [
    "b[2] = 'c'"
   ]
  },
  {
   "cell_type": "code",
   "execution_count": null,
   "id": "7def0bf9-b156-4f6c-a48c-6c408c3fbf33",
   "metadata": {},
   "outputs": [],
   "source": []
  }
 ],
 "metadata": {
  "kernelspec": {
   "display_name": "Python 3 (ipykernel)",
   "language": "python",
   "name": "python3"
  },
  "language_info": {
   "codemirror_mode": {
    "name": "ipython",
    "version": 3
   },
   "file_extension": ".py",
   "mimetype": "text/x-python",
   "name": "python",
   "nbconvert_exporter": "python",
   "pygments_lexer": "ipython3",
   "version": "3.10.8"
  }
 },
 "nbformat": 4,
 "nbformat_minor": 5
}
