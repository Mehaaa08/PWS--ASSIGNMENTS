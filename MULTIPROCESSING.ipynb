{
 "cells": [
  {
   "cell_type": "code",
   "execution_count": 2,
   "id": "6bc60411-e685-4951-8ff4-a1e3af654367",
   "metadata": {},
   "outputs": [],
   "source": [
    "# 01\n",
    "''''' multiprocessing in Python means running multiple processes simultaneously. A process is like an independent worker that can perform tasks on its own.\n",
    "\n",
    "Here are some key points about multiprocessing and its uses:\n",
    "\n",
    "    Running multiple tasks at the same time: Multiprocessing allows you to run multiple tasks concurrently, like having multiple workers working on different things simultaneously. This can make your program faster and more efficient.\n",
    "\n",
    "    Better utilization of CPU: With multiprocessing, you can take advantage of systems with multiple CPU cores. Each process can run on a separate core, enabling efficient utilization of the available computing power.\n",
    "\n",
    "    Improved performance: By splitting tasks into multiple processes, you can tackle complex and time-consuming operations more quickly. It can speed up computations, data processing, and other CPU-intensive tasks.\n",
    "\n",
    "    Fault tolerance and stability: Each process operates independently, so if one process encounters an error or crashes, it doesn't affect the others. This helps in creating more robust and stable programs.\n",
    "\n",
    "    Simplifying concurrent programming: Multiprocessing provides an easier way to work with concurrent programming. It offers a higher-level interface for managing processes and handling communication between them.\n",
    "\n",
    "    Data sharing and collaboration: Processes can communicate and share data using specific mechanisms provided by multiprocessing. This allows for collaboration and efficient exchange of information between different processes.\n",
    "\n",
    "    Parallel computing with libraries: Some Python libraries, like NumPy, are designed to work with multiprocessing. They can take advantage of paralleL execution to speed up computations, making them more efficient.\n",
    "    '''"
   ]
  },
  {
   "cell_type": "code",
   "execution_count": null,
   "id": "6539ad14-4cdd-45f8-88d2-6724e943d85a",
   "metadata": {},
   "outputs": [],
   "source": [
    "# 02\n",
    "'''Here are the differences between multiprocessing and multithreading in simpler terms:\n",
    "\n",
    "1. Nature of Execution: In multiprocessing, multiple processes run concurrently, where each process has its own memory space and runs independently. It's like having multiple workers operating on separate tasks simultaneously. On the other hand, in multithreading, multiple threads run within a single process and share the same memory space. It's like having multiple workers sharing the same task and working together.\n",
    "\n",
    "2. CPU Utilization: Multiprocessing is useful for tasks that are CPU-intensive, as it can take advantage of multiple CPU cores. Each process can run on a separate core, allowing for efficient utilization of computing power. Multithreading is beneficial for tasks that are I/O-bound, such as waiting for input/output operations like reading from a file or network. It allows for better utilization of the CPU during waiting periods by switching between threads.\n",
    "\n",
    "3. Memory and Resource Consumption: Each process in multiprocessing has its own memory space, which provides isolation and protection against errors or crashes in one process affecting others. However, it also means that each process requires its own resources and memory, leading to higher memory consumption. In multithreading, threads share the same memory space, reducing memory overhead, but also requiring careful synchronization to avoid conflicts and ensure data integrity.\n",
    "\n",
    "4. Complexity and Debugging: Multiprocessing can be easier to debug because each process operates independently. If an error or crash occurs in one process, it doesn't affect the others. However, it requires explicit communication mechanisms for inter-process communication. Multithreading can be more complex to debug due to shared memory and potential race conditions. Issues like race conditions, deadlocks, and synchronization errors can occur, making debugging and testing more challenging.\n",
    "\n",
    "5. Communication and Coordination: In multiprocessing, processes communicate and share data using mechanisms like pipes, queues, and shared memory. Communication between processes requires explicit coordination. In multithreading, threads can directly access shared memory, making communication and data sharing between threads more straightforward. However, proper synchronization techniques must be used to prevent race conditions.\n",
    "\n",
    "In summary, multiprocessing involves running multiple processes independently, which is suitable for CPU-intensive tasks and provides better isolation. Multithreading involves running multiple threads within a single process, which is beneficial for I/O-bound tasks and allows for efficient utilization of CPU resources. Multiprocessing requires more memory and explicit communication mechanisms, while multithreading requires careful synchronization."
   ]
  },
  {
   "cell_type": "code",
   "execution_count": 5,
   "id": "08dfb5bf-10c1-4e9e-a432-7db5a40d31b4",
   "metadata": {},
   "outputs": [],
   "source": [
    "# 03:import multiprocessing\n",
    "import multiprocessing\n"
   ]
  },
  {
   "cell_type": "code",
   "execution_count": 6,
   "id": "579f74ff-9a7e-49cc-8eec-e445d11d674b",
   "metadata": {},
   "outputs": [
    {
     "name": "stdout",
     "output_type": "stream",
     "text": [
      "Worker process executing.\n",
      "Main process completed.\n"
     ]
    }
   ],
   "source": [
    "\n",
    "\n",
    "def worker():\n",
    "    \"\"\"Function to be executed by the process.\"\"\"\n",
    "    print(\"Worker process executing.\")\n",
    "\n",
    "if __name__ == \"__main__\":\n",
    "\n",
    "    process = multiprocessing.Process(target=worker)\n",
    "\n",
    "    \n",
    "    process.start()\n",
    "    process.join()\n",
    "\n",
    "    print(\"Main process completed.\")\n"
   ]
  },
  {
   "cell_type": "code",
   "execution_count": 7,
   "id": "cbc05d87-18cb-4d82-aea6-08becaba7b25",
   "metadata": {},
   "outputs": [
    {
     "name": "stdout",
     "output_type": "stream",
     "text": [
      "Process 0 prints 0.\n",
      "Process 1 prints 1.\n",
      "Process 2 prints 2.\n",
      "Process 3 prints 3.\n",
      "Main process completed.\n"
     ]
    }
   ],
   "source": [
    "# 06\n",
    "import multiprocessing\n",
    "\n",
    "def print_number(number):\n",
    "    \"\"\"Function to be executed by each process.\"\"\"\n",
    "    print(f\"Process {number} prints {number}.\")\n",
    "\n",
    "if __name__ == \"__main__\":\n",
    "  \n",
    "    num_processes = 4\n",
    "\n",
    "    \n",
    "    processes = []\n",
    "\n",
    "    for i in range(num_processes):\n",
    "\n",
    "        process = multiprocessing.Process(target=print_number, args=(i,))\n",
    "        processes.append(process)\n",
    "\n",
    "\n",
    "    for process in processes:\n",
    "        process.start()\n",
    "\n",
    "    \n",
    "    for process in processes:\n",
    "        process.join()\n",
    "\n",
    "    print(\"Main process completed.\")\n"
   ]
  },
  {
   "cell_type": "code",
   "execution_count": null,
   "id": "1d697b40-6873-486e-9d92-1a799272885d",
   "metadata": {},
   "outputs": [],
   "source": []
  }
 ],
 "metadata": {
  "kernelspec": {
   "display_name": "Python 3 (ipykernel)",
   "language": "python",
   "name": "python3"
  },
  "language_info": {
   "codemirror_mode": {
    "name": "ipython",
    "version": 3
   },
   "file_extension": ".py",
   "mimetype": "text/x-python",
   "name": "python",
   "nbconvert_exporter": "python",
   "pygments_lexer": "ipython3",
   "version": "3.10.8"
  }
 },
 "nbformat": 4,
 "nbformat_minor": 5
}
