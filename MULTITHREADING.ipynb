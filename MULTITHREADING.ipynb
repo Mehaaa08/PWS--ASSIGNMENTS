{
 "cells": [
  {
   "cell_type": "code",
   "execution_count": 1,
   "id": "1e8f2469-8247-4242-817c-236562047fcc",
   "metadata": {},
   "outputs": [],
   "source": [
    "# Multithreading in Python allows you to run multiple tasks at the same time within a program. \n",
    "# It's like having multiple workers (threads) that can do different jobs simultaneously. This can make your program faster and more responsive\n",
    "\n",
    "# The module used to handle threads in Python is called `threading`.\n",
    "\n",
    "\n",
    "\n",
    "\n"
   ]
  },
  {
   "cell_type": "code",
   "execution_count": 2,
   "id": "617b9af4-c176-4c5a-bb02-e533c4f48b34",
   "metadata": {},
   "outputs": [],
   "source": [
    "# 02:The threading module in Python is used when you want to run multiple tasks simultaneously within your program. \n",
    "# It provides a way to create, control, and synchronize these tasks, which are called threads.\n",
    "\n",
    "'''\n",
    "1.activeCount: activeCount() is a method provided by the threading module in Python. \n",
    "It is used to retrieve the current number of active threads in the program.\n",
    "\n",
    "2.currentThread() :currentThread() is a function provided by the threading module in Python. \n",
    "It is used to retrieve the current thread object that represents the thread from which the function is called.\n",
    "\n",
    "3.enumerate():The enumerate() function is a useful utility provided by the threading module in Python.\n",
    "It allows you to retrieve a list of all currently active Thread objects in the program.\n",
    "\n",
    "'''\n",
    "\n"
   ]
  },
  {
   "cell_type": "code",
   "execution_count": null,
   "id": "de9bbb6a-d0aa-49a8-8aac-c49d597a9885",
   "metadata": {},
   "outputs": [],
   "source": [
    "# 03:\n",
    "'''\n",
    "1:run():\n",
    "    The run() method is  set of instructions for what a thread should do. When you create a thread object, you can define the tasks that the thread will perform by overriding the run() method.\n",
    "This method represents the entry point for the thread's execution logic.\n",
    "\n",
    "2:start():\n",
    "    The start() method is like pressing the \"start\" button for a thread.\n",
    "When you call start(), it initiates the execution of the thread and allows it to run simultaneously with other threads in your program. \n",
    "It creates a new thread of execution and automatically calls the run() method of that thread.\n",
    "\n",
    "3:join():\n",
    "    The join() method as a way to ensure that a thread completes its tasks before the program continues. \n",
    "When you call join() on a thread, the program will pause and wait until that thread finishes executing.\n",
    "It's useful when you want to synchronize the execution of multiple threads. \n",
    "By default, join() waits indefinitely, but you can specify a timeout if you don't want to wait forever.\n",
    "    \n",
    "4.isAlive():\n",
    "     The isAlive() method is like checking if a thread is still doing its job.\n",
    " It returns True if the thread is currently running or has not yet started, and False if the thread has completed its execution.\n",
    "You can use isAlive() to check the status of a thread and perform actions based on whether it's still active or not.\n",
    "\n",
    "'''"
   ]
  },
  {
   "cell_type": "code",
   "execution_count": 4,
   "id": "96f27284-abeb-4a8a-9961-0a95bf19a9a9",
   "metadata": {},
   "outputs": [
    {
     "name": "stdout",
     "output_type": "stream",
     "text": [
      "List of Squares: [1, 4, 9, 16, 25, 36, 49, 64, 81, 100]\n",
      "List of Cubes: [1, 8, 27, 64, 125, 216, 343, 512, 729, 1000]\n"
     ]
    }
   ],
   "source": [
    "#04:\n",
    "import threading\n",
    "\n",
    "\n",
    "def print_squares():\n",
    "    squares = [x**2 for x in range(1, 11)]\n",
    "    print(\"List of Squares:\", squares)\n",
    "\n",
    "\n",
    "def print_cubes():\n",
    "    cubes = [x**3 for x in range(1, 11)]\n",
    "    print(\"List of Cubes:\", cubes)\n",
    "\n",
    "\n",
    "thread1 = threading.Thread(target=print_squares)\n",
    "\n",
    "thread2 = threading.Thread(target=print_cubes)\n",
    "\n",
    "\n",
    "thread1.start()\n",
    "thread2.start()\n"
   ]
  },
  {
   "cell_type": "code",
   "execution_count": null,
   "id": "edf6f12a-db7c-4a4c-9585-710e43e0b421",
   "metadata": {},
   "outputs": [],
   "source": [
    "# 05:\n",
    "'''\n",
    "advantages and disadvantages:\n",
    "\n",
    "\n",
    "Advantages of Multithreading:\n",
    "\n",
    "1. Improved performance\n",
    "2.Increased responsiveness\n",
    "3. Resource sharing\n",
    "4.Modularity and code organization\n",
    "\n",
    "Disadvantages of Multithreading:\n",
    "\n",
    "1.Complexity and debugging difficulties\n",
    "2.Increased resource consumption\n",
    "3.Synchronization and coordination challenges\n",
    "4.Limited scalability"
   ]
  },
  {
   "cell_type": "code",
   "execution_count": null,
   "id": "30d4e1af-a08d-45c6-8f36-86cf69125557",
   "metadata": {},
   "outputs": [],
   "source": [
    "# 06:\n",
    "'''\n",
    "Deadlock: can be explained as a situation where two or more threads or processes are stuck and unable to proceed because each is waiting for the other to release a resource.\n",
    "Race Conditions:"
   ]
  }
 ],
 "metadata": {
  "kernelspec": {
   "display_name": "Python 3 (ipykernel)",
   "language": "python",
   "name": "python3"
  },
  "language_info": {
   "codemirror_mode": {
    "name": "ipython",
    "version": 3
   },
   "file_extension": ".py",
   "mimetype": "text/x-python",
   "name": "python",
   "nbconvert_exporter": "python",
   "pygments_lexer": "ipython3",
   "version": "3.10.8"
  }
 },
 "nbformat": 4,
 "nbformat_minor": 5
}
