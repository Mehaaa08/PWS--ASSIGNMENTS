{
 "cells": [
  {
   "cell_type": "code",
   "execution_count": null,
   "id": "7b05cd0e-d53a-4ac7-a420-3cd55199ec71",
   "metadata": {},
   "outputs": [],
   "source": [
    "'''01\n",
    ":A database is a structured collection of data that is organized, managed, and accessed electronically. \n",
    "It provides a systematic way to store, retrieve, and manage large amounts of information efficiently.\n",
    "\n",
    "Difference between SQL and NoSQL databases:\n",
    "\n",
    "SQL Database:\n",
    "- SQL (Structured Query Language) databases are based on a structured data model.\n",
    "- They use a schema to define the structure and relationships of the data.\n",
    "- SQL databases are table-based and have a fixed schema.\n",
    "- They are suitable for structured data and complex queries.\n",
    "- Examples include MySQL, Oracle, and PostgreSQL.\n",
    "\n",
    "NoSQL Database:\n",
    "- NoSQL (Not Only SQL) databases are based on a flexible and dynamic data model.\n",
    "- They do not require a fixed schema and can handle unstructured and semi-structured data.\n",
    "- NoSQL databases are document-oriented, key-value pairs, wide-column, or graph-based.\n",
    "- They are suitable for handling large amounts of data and scaling horizontally.\n",
    "- Examples include MongoDB, Cassandra, and Redis.\n",
    "'''\n",
    "\n"
   ]
  },
  {
   "cell_type": "code",
   "execution_count": null,
   "id": "726f0e1e-0652-4682-af46-a8a8cfebcc34",
   "metadata": {},
   "outputs": [],
   "source": [
    "'''02 \n",
    "DDL (Data Definition Language) is a subset of SQL (Structured Query Language) used for defining and managing database structures and schema.\n",
    "\n",
    "CREATE: The CREATE statement is used to create database objects such as tables, views, indexes, or schemas. \n",
    "eg: \"CREATE TABLE\" creates a new table with specified columns and data types.\n",
    "\n",
    "DROP: The DROP statement is used to delete or remove database objects. It allows you to remove tables, views, indexes, or other database entities. \n",
    "eg: \"DROP TABLE\" deletes a table and all its data from the database.\n",
    "\n",
    "ALTER: The ALTER statement is used to modify the structure or properties of an existing database object.\n",
    "It can add, modify, or delete columns, constraints, or other elements of a table.\n",
    "eg:\"ALTER TABLE\" can add a new column to an existing table.\n",
    "\n",
    "TRUNCATE: The TRUNCATE statement is used to remove all data from a table, while keeping the table structure intact.\n",
    "It is faster than deleting all rows one by one.\n",
    "eg: \"TRUNCATE TABLE\" removes all rows from a table, but the table itself remains in the database.\n",
    "\n",
    "\n",
    "''''"
   ]
  },
  {
   "cell_type": "code",
   "execution_count": null,
   "id": "f22a7dc5-d6ae-4046-bf16-bc4f37efe84b",
   "metadata": {},
   "outputs": [],
   "source": [
    "'''03:\n",
    "DML (Data Manipulation Language) is a subset of SQL (Structured Query Language) used to interact with and manipulate data within a database.\n",
    "\n",
    "INSERT: The INSERT statement is used to add new rows or records into a table. It allows you to specify the columns and values to be inserted. \n",
    "eg: \"INSERT INTO table_name (column1, column2) VALUES (value1, value2)\" adds a new row with specified values to the table.\n",
    "\n",
    "UPDATE: The UPDATE statement is used to modify existing data within a table. It allows you to update specific columns with new values based on certain conditions. \n",
    "eg:\"UPDATE table_name SET column1 = new_value WHERE condition\" updates the value of column1 in the table based on the specified condition.\n",
    "\n",
    "DELETE: The DELETE statement is used to remove specific rows or records from a table. It allows you to delete rows based on certain conditions.\n",
    "eg: \"DELETE FROM table_name WHERE condition\" removes rows from the table based on the specified condition.\n"
   ]
  },
  {
   "cell_type": "code",
   "execution_count": 3,
   "id": "46d4d543-2a42-4b8b-aa04-3bcd17e8484f",
   "metadata": {},
   "outputs": [
    {
     "ename": "SyntaxError",
     "evalue": "incomplete input (1622794194.py, line 1)",
     "output_type": "error",
     "traceback": [
      "\u001b[0;36m  Cell \u001b[0;32mIn[3], line 1\u001b[0;36m\u001b[0m\n\u001b[0;31m    '''04:DQL (Data Query Language) is a subset of SQL (Structured Query Language) used to retrieve and query data from a database.\u001b[0m\n\u001b[0m    ^\u001b[0m\n\u001b[0;31mSyntaxError\u001b[0m\u001b[0;31m:\u001b[0m incomplete input\n"
     ]
    }
   ],
   "source": [
    "'''04:DQL (Data Query Language) is a subset of SQL (Structured Query Language) used to retrieve and query data from a database.\n",
    "\n",
    "SELECT: The SELECT statement is used to retrieve data from one or more tables in a database.\n",
    "It allows you to specify the columns to be retrieved and apply conditions, sorting, and grouping.\n",
    "eg: \"SELECT column1, column2 FROM table_name WHERE condition\" retrieves the specified columns from the table based on the given condition.\n",
    "\n",
    "'''"
   ]
  },
  {
   "cell_type": "code",
   "execution_count": null,
   "id": "d872ea40-5db1-4073-99e4-267e1a3ebdd1",
   "metadata": {},
   "outputs": [],
   "source": [
    "'''05:\n",
    "Primary Key: A primary key is a column or a combination of columns that uniquely identifies each row in a table.\n",
    "It ensures the integrity and uniqueness of data.\n",
    "eg: in a \"Users\" table, the \"user_id\" column can be designated as the primary key.\n",
    "\n",
    "Foreign Key: A foreign key is a column or a combination of columns that establishes a relationship between two tables. \n",
    "It refers to the primary key of another table and enforces referential integrity\n",
    "eg:in an \"Orders\" table, the \"user_id\" column can be a foreign key referencing the \"user_id\" primary key in the \"Users\" table.\n",
    "\n",
    "'''"
   ]
  },
  {
   "cell_type": "code",
   "execution_count": null,
   "id": "6c4f026f-6a65-48d7-83a6-c4e2ac6c6026",
   "metadata": {},
   "outputs": [],
   "source": [
    "# 06:\n",
    "import mysql.connector\n",
    "\n",
    "conn = mysql.connector.connect(\n",
    "    host=\"localhost\",\n",
    "    user=\"your_username\",\n",
    "    password=\"your_password\",\n",
    "    database=\"your_database\"\n",
    ")\n",
    "\n",
    "\n",
    "cursor = conn.cursor()\n",
    "\n",
    "cursor.execute(\"SELECT * FROM your_table\")\n",
    "\n",
    "results = cursor.fetchall()\n",
    "\n",
    "conn.close()\n"
   ]
  },
  {
   "cell_type": "code",
   "execution_count": null,
   "id": "fc3dc4c3-29fd-4cb6-8e49-1b4bc15d7943",
   "metadata": {},
   "outputs": [],
   "source": []
  },
  {
   "cell_type": "code",
   "execution_count": null,
   "id": "443a1406-3529-4ba0-ab3d-708e226552b3",
   "metadata": {},
   "outputs": [],
   "source": []
  },
  {
   "cell_type": "code",
   "execution_count": null,
   "id": "52c49a6f-44fc-4bbd-b267-35f481e22c33",
   "metadata": {},
   "outputs": [],
   "source": []
  },
  {
   "cell_type": "code",
   "execution_count": null,
   "id": "0e82fd3e-7b05-4bc8-92aa-fdee53341456",
   "metadata": {},
   "outputs": [],
   "source": []
  },
  {
   "cell_type": "code",
   "execution_count": null,
   "id": "ec256257-fa01-488b-81b4-40620fc0fe2d",
   "metadata": {},
   "outputs": [],
   "source": []
  }
 ],
 "metadata": {
  "kernelspec": {
   "display_name": "Python 3 (ipykernel)",
   "language": "python",
   "name": "python3"
  },
  "language_info": {
   "codemirror_mode": {
    "name": "ipython",
    "version": 3
   },
   "file_extension": ".py",
   "mimetype": "text/x-python",
   "name": "python",
   "nbconvert_exporter": "python",
   "pygments_lexer": "ipython3",
   "version": "3.10.8"
  }
 },
 "nbformat": 4,
 "nbformat_minor": 5
}
