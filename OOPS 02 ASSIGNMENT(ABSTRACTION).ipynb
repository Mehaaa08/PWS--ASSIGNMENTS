{
 "cells": [
  {
   "cell_type": "code",
   "execution_count": 4,
   "id": "2287e913-bcb6-4105-ab73-58057723486a",
   "metadata": {},
   "outputs": [],
   "source": [
    "# 01:ABSTRACTION  is the process of simplifying complex systems by focusing on essential features while hiding unnecessary details\n",
    "\n",
    "class Movie:\n",
    "    def __init__(self, title, director, release_year):\n",
    "        self.title = title\n",
    "        self.director = director\n",
    "        self.release_year = release_year\n",
    "\n",
    "    def play(self):\n",
    "        \n",
    "        print(\"Playing\", self.title)\n",
    "\n",
    "    def pause(self):\n",
    "        \n",
    "        print(\"Pausing\", self.title)\n",
    "\n",
    "    def stop(self):\n",
    "        \n",
    "        print(\"Stopping\", self.title)\n",
    "\n",
    "    def get_info(self):\n",
    "        \n",
    "        print(\"Movie Information:\")\n",
    "        print(\"Title:\", self.title)\n",
    "        print(\"Director:\", self.director)\n",
    "        print(\"Release Year:\", self.release_year)\n",
    "        \n",
    "\n",
    "\n"
   ]
  },
  {
   "cell_type": "code",
   "execution_count": 5,
   "id": "0433b68f-e95f-4d27-91ec-6620e70354e3",
   "metadata": {},
   "outputs": [
    {
     "name": "stdout",
     "output_type": "stream",
     "text": [
      "Playing OOPENHEIMER\n",
      "Pausing OOPENHEIMER\n",
      "Stopping OOPENHEIMER\n",
      "Movie Information:\n",
      "Title: OOPENHEIMER\n",
      "Director: CHRISTOPHER NOLAN\n",
      "Release Year: 2023\n"
     ]
    }
   ],
   "source": [
    "movie = Movie(\"OOPENHEIMER\", \"CHRISTOPHER NOLAN\", 2023)\n",
    "\n",
    "movie.play()\n",
    "movie.pause()\n",
    "movie.stop()\n",
    "movie.get_info()\n"
   ]
  },
  {
   "cell_type": "code",
   "execution_count": 6,
   "id": "dc2cee2e-78e2-4919-b2f7-4921d45fc7dc",
   "metadata": {},
   "outputs": [],
   "source": [
    "# 02:Abstraction focuses on the behavior and characteristics of objects, emphasizing the essential features while hiding unnecessary details\n",
    "# Encapsulation, on the other hand, focuses on bundling data and methods together within a class, and controlling access to that data through access modifiers\n"
   ]
  },
  {
   "cell_type": "code",
   "execution_count": 7,
   "id": "c8ba4dcd-d743-4441-85b7-e34e8937cd95",
   "metadata": {},
   "outputs": [],
   "source": [
    "# 03: I DONT KNOW"
   ]
  },
  {
   "cell_type": "code",
   "execution_count": null,
   "id": "ee6de6cc-b054-4492-b33b-2e59297993d4",
   "metadata": {},
   "outputs": [],
   "source": [
    "#04:DATA ABSTRACTION CAN BE ACHIEVED THROUGH ABSTRACT CLASS AND INTERFACES.\n",
    "\n"
   ]
  }
 ],
 "metadata": {
  "kernelspec": {
   "display_name": "Python 3 (ipykernel)",
   "language": "python",
   "name": "python3"
  },
  "language_info": {
   "codemirror_mode": {
    "name": "ipython",
    "version": 3
   },
   "file_extension": ".py",
   "mimetype": "text/x-python",
   "name": "python",
   "nbconvert_exporter": "python",
   "pygments_lexer": "ipython3",
   "version": "3.10.8"
  }
 },
 "nbformat": 4,
 "nbformat_minor": 5
}
