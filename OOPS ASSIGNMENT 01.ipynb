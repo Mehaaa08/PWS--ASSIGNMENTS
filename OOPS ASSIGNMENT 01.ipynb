{
 "cells": [
  {
   "cell_type": "code",
   "execution_count": 4,
   "id": "2a621325-f620-4320-b6fc-d8afe0dd0872",
   "metadata": {},
   "outputs": [
    {
     "name": "stdout",
     "output_type": "stream",
     "text": [
      "Meha\n",
      "21\n",
      "Hello, my name is Meha  and I am  21  years old.\n"
     ]
    }
   ],
   "source": [
    "# CLASS : A class serves as a blueprint because it specifies the common characteristics and behaviors that objects of that class should possess,\n",
    "# OBJECT :On the other hand,an object is an instance of a class. It is a real entity that exists in memory based on the blueprint defined by the class.\n",
    "class PERSON:\n",
    "    def __init__(self, name, age):\n",
    "        self.name = name\n",
    "        self.age = age\n",
    "\n",
    "    def say_hello(self):\n",
    "        print(\"Hello, my name is\", self.name,\" and I am \",self.age,\" years old.\")\n",
    "\n",
    "person1 = Person(\"Meha\", 21)\n",
    "\n",
    "print(person1.name)\n",
    "print(person1.age)\n",
    "\n",
    "person1.say_hello()\n",
    "  \n",
    "\n"
   ]
  },
  {
   "cell_type": "code",
   "execution_count": 5,
   "id": "02d328f0-424c-4ecd-811f-ae27e5f15e78",
   "metadata": {},
   "outputs": [],
   "source": [
    "#02:The four names of OOPS are given below:\n",
    "#         ENCAPSULATION\n",
    "#         INHERITANCE\n",
    "#         POLYMORPHISM\n",
    "#         ABSTRACTION\n"
   ]
  },
  {
   "cell_type": "code",
   "execution_count": 6,
   "id": "8a2239b4-5701-423d-972d-94fb1659834e",
   "metadata": {},
   "outputs": [
    {
     "name": "stdout",
     "output_type": "stream",
     "text": [
      "Book Title: IT STARTS WITH US\n",
      "Book Author: COOLEAN HOOVER\n",
      "Title: IT STARTS WITH US\n",
      "Author: COOLEAN HOOVER\n"
     ]
    }
   ],
   "source": [
    "# 03:__init__:is used as constructor method &its main purpose is to initialize the property of an object\n",
    "\n",
    "class Book:\n",
    "    def __init__(self, title, author):\n",
    "        self.title = title\n",
    "        self.author = author\n",
    "\n",
    "    def display_info(self):\n",
    "        print(\"Title:\", self.title)\n",
    "        print(\"Author:\", self.author)\n",
    "\n",
    "\n",
    "book1 = Book(\"IT STARTS WITH US\", \"COOLEAN HOOVER\")\n",
    "\n",
    "\n",
    "print(\"Book Title:\", book1.title)\n",
    "print(\"Book Author:\", book1.author)\n",
    "\n",
    "\n",
    "book1.display_info()\n",
    "\n"
   ]
  },
  {
   "cell_type": "code",
   "execution_count": 7,
   "id": "131f2354-6c00-469d-8ea1-17cd468eb2c2",
   "metadata": {},
   "outputs": [],
   "source": [
    "# SELF: s used as a reference to the current instance of a class.It is used for Creating and Accessing Instance Variables as well as Refrencing other methods. "
   ]
  },
  {
   "cell_type": "code",
   "execution_count": 10,
   "id": "30c2db48-10f1-4879-92a9-abc3ea19556e",
   "metadata": {},
   "outputs": [],
   "source": [
    "# 05 Inheritance allows  one class to inherit the properties and behaviors of another class.\n",
    "# There are 3 types of inheritance:\n",
    " #                    SINGLE INHERITANCE\n",
    "#                     MULTIPLE INHERITANCE\n",
    "#                    MULTILEVEL INHERITANCE\n",
    "\n",
    "\n",
    "\n"
   ]
  },
  {
   "cell_type": "code",
   "execution_count": 9,
   "id": "f0324b67-e7dd-4cbe-9eee-c7c491527f7b",
   "metadata": {},
   "outputs": [
    {
     "name": "stdout",
     "output_type": "stream",
     "text": [
      "Dog barks\n"
     ]
    }
   ],
   "source": [
    "# SINGLE INHERITANCE: inherit from parent class to child class\n",
    "class Animal:\n",
    "    def __init__(self, name):\n",
    "        self.name = name\n",
    "\n",
    "    def sound(self):\n",
    "        print(\"Animal makes a sound\")\n",
    "\n",
    "class Dog(Animal):\n",
    "    def sound(self):\n",
    "        print(\"Dog barks\")\n",
    "\n",
    "dog = Dog(\"Buddy\")\n",
    "dog.sound()\n"
   ]
  },
  {
   "cell_type": "code",
   "execution_count": 11,
   "id": "03fe7c2f-4c26-40d4-bd08-a84c168e74a3",
   "metadata": {},
   "outputs": [
    {
     "name": "stdout",
     "output_type": "stream",
     "text": [
      "Ducks can fly\n",
      "Ducks can swim\n"
     ]
    }
   ],
   "source": [
    "# MULTIPLE INHERITANCE:Multiple inheritance occurs when a subclass inherits from multiple superclasses\n",
    "\n",
    "class Flying:\n",
    "    def fly(self):\n",
    "        print(\"Ducks can fly\")\n",
    "\n",
    "class Swimming:\n",
    "    def swim(self):\n",
    "        print(\"Ducks can swim\")\n",
    "\n",
    "class Duck(Flying,Swimming):\n",
    "    pass\n",
    "\n",
    "duck = Duck()\n",
    "duck.fly()  \n",
    "duck.swim()  "
   ]
  },
  {
   "cell_type": "code",
   "execution_count": 12,
   "id": "977298fa-ae4b-44c7-b50f-739f2e7844c9",
   "metadata": {},
   "outputs": [
    {
     "name": "stdout",
     "output_type": "stream",
     "text": [
      "Driving a vehicle\n",
      "Parking a car\n",
      "Sports car is fast\n"
     ]
    }
   ],
   "source": [
    "#  MULTILEVEL INHERITANCE: involves a subclass inheriting from another subclass\n",
    "class Vehicle:\n",
    "    def drive(self):\n",
    "        print(\"Driving a vehicle\")\n",
    "\n",
    "class Car(Vehicle):\n",
    "    def park(self):\n",
    "        print(\"Parking a car\")\n",
    "\n",
    "class SportsCar(Car):\n",
    "    def speed(self):\n",
    "        print(\"Sports car is fast\")\n",
    "\n",
    "sports_car = SportsCar()\n",
    "sports_car.drive()  \n",
    "sports_car.park()  \n",
    "sports_car.speed()  \n",
    "\n"
   ]
  },
  {
   "cell_type": "code",
   "execution_count": null,
   "id": "31fe978e-4330-4b99-8899-e2b887ec215d",
   "metadata": {},
   "outputs": [],
   "source": []
  }
 ],
 "metadata": {
  "kernelspec": {
   "display_name": "Python 3 (ipykernel)",
   "language": "python",
   "name": "python3"
  },
  "language_info": {
   "codemirror_mode": {
    "name": "ipython",
    "version": 3
   },
   "file_extension": ".py",
   "mimetype": "text/x-python",
   "name": "python",
   "nbconvert_exporter": "python",
   "pygments_lexer": "ipython3",
   "version": "3.10.8"
  }
 },
 "nbformat": 4,
 "nbformat_minor": 5
}
