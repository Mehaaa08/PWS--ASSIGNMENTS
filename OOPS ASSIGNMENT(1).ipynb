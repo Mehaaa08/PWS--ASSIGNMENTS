{
 "cells": [
  {
   "cell_type": "code",
   "execution_count": 5,
   "id": "8aff30cc-f4d6-457a-a42f-76dd8d25faa9",
   "metadata": {},
   "outputs": [],
   "source": [
    "# 01\n",
    "class Vehicles:\n",
    "    def __init__(self, name_of_vehicle, max_speed, average_of_vehicle):\n",
    "        self.name_of_vehicle = name_of_vehicle\n",
    "        self.max_speed = max_speed\n",
    "        self.average_of_vehicle = average_of_vehicle\n",
    "    \n",
    "    def return_vehicle_details(self):\n",
    "        return self.name_of_vehicle, self.max_speed, self.average_of_vehicle\n"
   ]
  },
  {
   "cell_type": "code",
   "execution_count": 7,
   "id": "fe568296-e4b2-447d-8544-dcadfa0a451f",
   "metadata": {},
   "outputs": [],
   "source": [
    "Vehicle1 = Vehicles(\"suv\",80,55)"
   ]
  },
  {
   "cell_type": "code",
   "execution_count": 8,
   "id": "e2f39e74-8c25-4d0d-ae36-5fde9ba558bd",
   "metadata": {},
   "outputs": [
    {
     "data": {
      "text/plain": [
       "('suv', 80, 55)"
      ]
     },
     "execution_count": 8,
     "metadata": {},
     "output_type": "execute_result"
    }
   ],
   "source": [
    "Vehicle1.return_vehicle_details()"
   ]
  },
  {
   "cell_type": "code",
   "execution_count": 9,
   "id": "9e34f39b-5c0f-410a-92d4-03c05a1aa409",
   "metadata": {},
   "outputs": [],
   "source": [
    "Vehicle2 = Vehicles(\"mustang\",99,68)"
   ]
  },
  {
   "cell_type": "code",
   "execution_count": 10,
   "id": "18d457f3-9205-4c28-9112-4889af55f3c2",
   "metadata": {},
   "outputs": [
    {
     "data": {
      "text/plain": [
       "('mustang', 99, 68)"
      ]
     },
     "execution_count": 10,
     "metadata": {},
     "output_type": "execute_result"
    }
   ],
   "source": [
    "Vehicle2.return_vehicle_details()"
   ]
  },
  {
   "cell_type": "code",
   "execution_count": 11,
   "id": "425844b9-e35c-468c-8713-9a5a39d1d721",
   "metadata": {},
   "outputs": [],
   "source": [
    "# 02\n",
    "class Vehicle:\n",
    "    def __init__(self, name, color):\n",
    "        self.name = name\n",
    "        self.color = color\n",
    "\n",
    "    def display_info(self):\n",
    "        print(f\"Name: {self.name}\")\n",
    "        print(f\"Color: {self.color}\")\n",
    "\n",
    "\n",
    "class Car(Vehicle):\n",
    "    def seating_capacity(self, capacity):\n",
    "        return f\"{self.name} has a seating capacity of {capacity}.\"\n",
    "\n",
    "\n",
    "# Create an instance of the Car class\n",
    "car = Car(\"Honda Accord\", \"Silver\")\n",
    "\n",
    "# Access and display the information using the inherited method\n",
    "car.display_info()\n",
    "\n",
    "# Call the seating_capacity() method of the Car class\n",
    "capacity = 5\n",
    "result = car.seating_capacity(capacity)\n",
    "print(result)\n"
   ]
  },
  {
   "cell_type": "code",
   "execution_count": 12,
   "id": "d006c18b-eb62-4d14-b6f3-814f386b216b",
   "metadata": {},
   "outputs": [],
   "source": [
    "# 03\n",
    "# MULTIPLE INHERITANCE :ONE CAN INHERIT FROM VARIOUS PARENT CLASS TO CHILD CLASS BUT YOU CANNOT INHERIT FROM CHILD TO PARENT\n",
    "class red:\n",
    "    \n",
    "    def test_red(self):\n",
    "        return \"hey i am red and i am part of colour\""
   ]
  },
  {
   "cell_type": "code",
   "execution_count": 13,
   "id": "36b87fd9-73b7-4d7d-927a-e6104ed48d9a",
   "metadata": {},
   "outputs": [],
   "source": [
    "class blue:\n",
    "    \n",
    "    def test_blue(self):\n",
    "        return \" hey i am blue and i am part of colour\""
   ]
  },
  {
   "cell_type": "code",
   "execution_count": 14,
   "id": "0e050e10-86fd-4259-8214-dd267851d10a",
   "metadata": {},
   "outputs": [],
   "source": [
    "class colour(red,blue) :\n",
    "    pass"
   ]
  },
  {
   "cell_type": "code",
   "execution_count": 16,
   "id": "987aa25a-1a80-4ed6-8ec1-0292882e66f6",
   "metadata": {},
   "outputs": [],
   "source": [
    "colour_obj = colour()"
   ]
  },
  {
   "cell_type": "code",
   "execution_count": 17,
   "id": "9abf7a12-bacd-4fb5-b33a-875b37452eec",
   "metadata": {},
   "outputs": [
    {
     "data": {
      "text/plain": [
       "' hey i am blue and i am part of colour'"
      ]
     },
     "execution_count": 17,
     "metadata": {},
     "output_type": "execute_result"
    }
   ],
   "source": [
    "colour_obj.test_blue()"
   ]
  },
  {
   "cell_type": "code",
   "execution_count": 18,
   "id": "f0a87f3f-f34a-4164-886f-652cca695c1c",
   "metadata": {},
   "outputs": [
    {
     "data": {
      "text/plain": [
       "'hey i am red and i am part of colour'"
      ]
     },
     "execution_count": 18,
     "metadata": {},
     "output_type": "execute_result"
    }
   ],
   "source": [
    "colour_obj.test_red()"
   ]
  },
  {
   "cell_type": "code",
   "execution_count": 20,
   "id": "f8252d7b-788e-46fd-a929-0ea9cb2938c8",
   "metadata": {},
   "outputs": [],
   "source": [
    "# 04 GETTER:\n",
    "#  SETTER:\n",
    "\n",
    "class Bike:\n",
    "    def __init__(self, year, made, model, speed):\n",
    "        self.__year = year\n",
    "        self.__made = made\n",
    "        self.__model = model\n",
    "        self.__speed = 5\n",
    "\n",
    "    def get_speed(self):\n",
    "        return self.__speed\n",
    "\n",
    "    def set_speed(self, speed):\n",
    "        self.__speed = 5 if speed < 5 else speed"
   ]
  },
  {
   "cell_type": "code",
   "execution_count": 21,
   "id": "78a0605e-916c-4c7f-8696-f0cbd75579a3",
   "metadata": {},
   "outputs": [],
   "source": [
    "a = Bike(2020,\"HERO\",\"HERO SPLENDER\",6)"
   ]
  },
  {
   "cell_type": "code",
   "execution_count": 22,
   "id": "b1f52527-6f66-41c3-a22b-4eaffefc3ca8",
   "metadata": {},
   "outputs": [
    {
     "data": {
      "text/plain": [
       "2020"
      ]
     },
     "execution_count": 22,
     "metadata": {},
     "output_type": "execute_result"
    }
   ],
   "source": [
    "a._Bike__year"
   ]
  },
  {
   "cell_type": "code",
   "execution_count": 23,
   "id": "7906345e-a35a-4fa7-adc4-20e63abe210b",
   "metadata": {},
   "outputs": [],
   "source": [
    "a.set_speed(7)"
   ]
  },
  {
   "cell_type": "code",
   "execution_count": 25,
   "id": "b5ee42fc-4310-4e66-8839-8640660e7603",
   "metadata": {},
   "outputs": [
    {
     "data": {
      "text/plain": [
       "7"
      ]
     },
     "execution_count": 25,
     "metadata": {},
     "output_type": "execute_result"
    }
   ],
   "source": [
    "a.get_speed()"
   ]
  },
  {
   "cell_type": "code",
   "execution_count": 3,
   "id": "5fddd0f3-19ee-4dca-89c4-151d30d72573",
   "metadata": {},
   "outputs": [
    {
     "name": "stdout",
     "output_type": "stream",
     "text": [
      "Various anime genres are listed below:\n",
      "['naruto', 'onepiece']\n",
      "['your name', 'i want to eat your pancreas']\n"
     ]
    }
   ],
   "source": [
    "# 05\n",
    "class Anime:\n",
    "    @classmethod\n",
    "    def genre(cls):\n",
    "        print(\"Various anime genres are listed below:\")\n",
    "\n",
    "class ACTION(Anime):\n",
    "    @classmethod\n",
    "    def genre(cls):\n",
    "        print([\"naruto\",\"onepiece\"])\n",
    "\n",
    "class ROMANCE(Anime):\n",
    "    @classmethod\n",
    "    def genre(cls):\n",
    "        print([\"your name\",\"i want to eat your pancreas\"])\n",
    "\n",
    "\n",
    "Anime.genre() \n",
    "ACTION.genre()     \n",
    "ROMANCE.genre()\n"
   ]
  },
  {
   "cell_type": "code",
   "execution_count": null,
   "id": "10686442-cad1-4bc0-a3ca-d006ba17235b",
   "metadata": {},
   "outputs": [],
   "source": []
  }
 ],
 "metadata": {
  "kernelspec": {
   "display_name": "Python 3 (ipykernel)",
   "language": "python",
   "name": "python3"
  },
  "language_info": {
   "codemirror_mode": {
    "name": "ipython",
    "version": 3
   },
   "file_extension": ".py",
   "mimetype": "text/x-python",
   "name": "python",
   "nbconvert_exporter": "python",
   "pygments_lexer": "ipython3",
   "version": "3.10.8"
  }
 },
 "nbformat": 4,
 "nbformat_minor": 5
}
