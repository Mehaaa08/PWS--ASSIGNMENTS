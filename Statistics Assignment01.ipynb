{
 "cells": [
  {
   "cell_type": "code",
   "execution_count": null,
   "id": "b7656d55-92e8-43f0-b335-af6ade12f5c2",
   "metadata": {},
   "outputs": [],
   "source": [
    "# 01\n",
    "'''\n",
    "Statistics is the science of collecting,organizing and analysing the data.\n",
    "\n",
    "\n",
    "'''"
   ]
  },
  {
   "cell_type": "code",
   "execution_count": null,
   "id": "a14a308c-e491-4aa3-91d6-b04d2eeb0bbf",
   "metadata": {},
   "outputs": [],
   "source": [
    "# 02:\n",
    "'''\n",
    "There are 2 types of statistics which are mentioned below:\n",
    "                    1:Descriptive Statistics\n",
    "                    2:Inferential Statistics\n",
    "    \n",
    "            1:Descriptive Statistics:Descriptive Statistics consists of organising & summarazing the data.\n",
    "            For eg:The marks of 20 students in class.\n",
    "            \n",
    "            2:Inferential Statistics:Inferential Statistics consists of using data you have measured to form a conclusion.\n",
    "            For eg:To make inferences about a population based on a sample.\n",
    "\n",
    "'''"
   ]
  },
  {
   "cell_type": "code",
   "execution_count": null,
   "id": "f8f49c17-ad39-4eea-855b-da2ae44dbc07",
   "metadata": {},
   "outputs": [],
   "source": [
    "# 03\n",
    "'''\n",
    "Data can be classified into different types based on their nature, format, and the level of measurement.\n",
    "The most common types of data are:\n",
    "            \n",
    "                1:Quantitative(Numerical Data):\n",
    "                                            Quantitative data represents quantities that can be measured or counted.\n",
    "                                            It can be further divided into two subtypes :\n",
    "                                            1:Discrete Data: Discrete data consists of whole numbers or values that can be counted and are separate from each other.\n",
    "                                                                eg:number of children in a family etc.\n",
    "                                            2:Continuous Data:Continuous data represents measurements that can take any value within a specific range.\n",
    "                                                                eg:height, wieght etc.\n",
    "                                               \n",
    "                                            \n",
    "                2:Qualitative(Categorical Data):\n",
    "                                                Qualitative data consists of distinct categories or labels that represent different groups or classes.\n",
    "                                                The data cannot be mathematically measured or ordered.It can be further divided into two subtypes:\n",
    "                                                1:Nominal Data: Nominal data is a type of categorical data that represents different categories or labels without any inherent order or ranking.\n",
    "                                                In nominal data, the categories are distinct and mutually exclusive.Each category represents a unique attribute or characteristic. \n",
    "                                                            eg:Blood Types: A, B, AB, or O. Blood types are distinct categories that do not have any inherent order or ranking.\n",
    "                                                            \n",
    "                                                2:Ordinal Data:Ordinal data represents categories with a specific order or ranking.\n",
    "                                                While the categories have a relative position, the differences between them may not be equal. \n",
    "                                                          eg:feedback on any website or application.\n",
    "            \n",
    "'''"
   ]
  },
  {
   "cell_type": "code",
   "execution_count": null,
   "id": "0884de6c-066c-4fbe-b3a3-1cf60f9c6890",
   "metadata": {},
   "outputs": [],
   "source": [
    "#04\n",
    "'''\n",
    "(i) Grading in exam: Qualitative Data\n",
    "(ii) Colour of mangoes: Qualitative Data\n",
    "(iii) Height data of a class: Quantitative Data\n",
    "(iv) Number of mangoes exported by a farm: Quantitative Data\n",
    "\n",
    "\n",
    "'''"
   ]
  },
  {
   "cell_type": "code",
   "execution_count": null,
   "id": "5c8f2ebf-65b5-4ba2-96f3-eebb05550f92",
   "metadata": {},
   "outputs": [],
   "source": [
    "#05\n",
    "'''\n",
    "Levels of measurement refer to the different ways we measure variables. \n",
    "\n",
    "1. Nominal: Categorical data without order. Example: Eye color (Blue, Brown, Green).\n",
    "\n",
    "2. Ordinal: Categorical data with order/rank. Example: Educational qualification (High School, Bachelor's, Master's, PhD).\n",
    "\n",
    "3. Interval: Numerical data with meaningful differences, but no true zero point. Example: Temperature in Celsius (20°C, 25°C, 30°C).\n",
    "\n",
    "4. Ratio: Numerical data with meaningful differences and a true zero point. Example: Height in centimeters (160 cm, 170 cm, 180 cm).\n",
    "\n",
    "\n",
    "\n",
    "'''"
   ]
  },
  {
   "cell_type": "code",
   "execution_count": null,
   "id": "1d5a5220-42e8-49bc-af59-6a354d55f2e2",
   "metadata": {},
   "outputs": [],
   "source": [
    "#06\n",
    "'''\n",
    "Nominal data has no order or ranking, while ordinal data has a specific order or ranking. \n",
    "Nominal data represents distinct categories without a numerical relationship, while ordinal data represents categories with a qualitative ranking.\n",
    "\n",
    "\n",
    "'''"
   ]
  },
  {
   "cell_type": "code",
   "execution_count": null,
   "id": "7ffb11ec-4bac-489e-97f5-cb2ef1bfb029",
   "metadata": {},
   "outputs": [],
   "source": [
    "#07\n",
    "'''\n",
    "Nominal data has no order or ranking, while ordinal data has a specific order or ranking.\n",
    "Nominal data represents distinct categories without a numerical relationship, while ordinal data represents categories with a qualitative ranking.\n",
    "\n",
    "\n",
    "\n",
    "'''"
   ]
  },
  {
   "cell_type": "code",
   "execution_count": null,
   "id": "411d8143-fe42-452b-9bae-34205871609b",
   "metadata": {},
   "outputs": [],
   "source": [
    "#08\n",
    "'''\n",
    "\n",
    " A box plot or range plot can be used to display data in terms of range.\n",
    "\n",
    "\n",
    "'''"
   ]
  },
  {
   "cell_type": "code",
   "execution_count": null,
   "id": "717c995e-4fc1-4b55-9b9c-3a8729da1702",
   "metadata": {},
   "outputs": [],
   "source": [
    "#09\n",
    "'''\n",
    "Descriptive Statistics: Summarizes data we already have, like calculating the average and spread of exam scores.\n",
    "\n",
    "Inferential Statistics: Makes predictions about a larger group based on a smaller sample, like testing if there's a significant difference in mean scores between two groups.\n",
    "\n",
    "Inshort, descriptive statistics describe the data we have, while inferential statistics make predictions about a bigger group based on a smaller sample.\n",
    "\n",
    "'''"
   ]
  },
  {
   "cell_type": "code",
   "execution_count": null,
   "id": "e0130353-bbb4-4583-8b3a-3a497c1cda9e",
   "metadata": {},
   "outputs": [],
   "source": []
  },
  {
   "cell_type": "code",
   "execution_count": null,
   "id": "86599853-85e6-4acb-8976-7d68a4441404",
   "metadata": {},
   "outputs": [],
   "source": []
  },
  {
   "cell_type": "code",
   "execution_count": null,
   "id": "83542e0c-43fd-47b9-b795-53bd6e0726db",
   "metadata": {},
   "outputs": [],
   "source": []
  },
  {
   "cell_type": "code",
   "execution_count": null,
   "id": "54e1dd01-cd7b-409a-a83a-60992db15724",
   "metadata": {},
   "outputs": [],
   "source": []
  },
  {
   "cell_type": "code",
   "execution_count": null,
   "id": "601f8eab-7b3d-493c-94c4-633229def847",
   "metadata": {},
   "outputs": [],
   "source": []
  },
  {
   "cell_type": "code",
   "execution_count": null,
   "id": "4e764ef7-cb88-48e0-a751-efc229c2e663",
   "metadata": {},
   "outputs": [],
   "source": []
  },
  {
   "cell_type": "code",
   "execution_count": null,
   "id": "40ecb51e-ec07-4353-bdc3-90aeb66ff794",
   "metadata": {},
   "outputs": [],
   "source": []
  },
  {
   "cell_type": "code",
   "execution_count": null,
   "id": "2dd6c307-747a-4b62-ab6e-197599775ec7",
   "metadata": {},
   "outputs": [],
   "source": []
  },
  {
   "cell_type": "code",
   "execution_count": null,
   "id": "c095bfdf-2048-4d13-ada9-8e00784d4e3d",
   "metadata": {},
   "outputs": [],
   "source": []
  }
 ],
 "metadata": {
  "kernelspec": {
   "display_name": "Python 3 (ipykernel)",
   "language": "python",
   "name": "python3"
  },
  "language_info": {
   "codemirror_mode": {
    "name": "ipython",
    "version": 3
   },
   "file_extension": ".py",
   "mimetype": "text/x-python",
   "name": "python",
   "nbconvert_exporter": "python",
   "pygments_lexer": "ipython3",
   "version": "3.10.8"
  }
 },
 "nbformat": 4,
 "nbformat_minor": 5
}
