{
 "cells": [
  {
   "cell_type": "code",
   "execution_count": 1,
   "id": "73431270-2e1a-46cf-b9a3-45dc52561290",
   "metadata": {},
   "outputs": [],
   "source": [
    "# 01\n",
    "'''\n",
    ":The three measures of central tedency are:\n",
    "\n",
    "                    1:Mean\n",
    "                    2:Median\n",
    "                    3:Mode\n",
    "\n",
    "'''"
   ]
  },
  {
   "cell_type": "code",
   "execution_count": null,
   "id": "e1c7c2fb-00d7-44c8-b595-29c8dcd432ee",
   "metadata": {},
   "outputs": [],
   "source": [
    "# 02\n",
    "'''\n",
    "Mean: The mean is the average value of a dataset. It is calculated by summing up all the values and dividing by the total number of values. The mean takes into account all the values and can be influenced by outliers.\n",
    "\n",
    "Median: The median is the middle value in a dataset when the values are arranged in order. It represents the value that divides the dataset into two equal halves. The median is not affected by extreme values or outliers and is useful when the data contains outliers.\n",
    "\n",
    "Mode: The mode is the value or values that occur most frequently in a dataset. It represents the most common value. The mode is useful for identifying the peak or most frequent values in a dataset\n",
    "\n",
    "\n",
    "\n",
    "'''"
   ]
  },
  {
   "cell_type": "code",
   "execution_count": 2,
   "id": "647d08ac-7e84-4c25-9393-955838f8606c",
   "metadata": {},
   "outputs": [],
   "source": [
    "# 03\n",
    "height = [178,177,176,177,178.2,178,175,179,180,175,178.9,176.2,177,172.5,178,176.5]"
   ]
  },
  {
   "cell_type": "code",
   "execution_count": 3,
   "id": "ca5d70b9-6c7c-4200-a1ab-92a7cc764829",
   "metadata": {},
   "outputs": [
    {
     "data": {
      "text/plain": [
       "177.01875"
      ]
     },
     "execution_count": 3,
     "metadata": {},
     "output_type": "execute_result"
    }
   ],
   "source": [
    "import numpy as np\n",
    "np.mean(height)"
   ]
  },
  {
   "cell_type": "code",
   "execution_count": 4,
   "id": "2b7ac41a-3f9e-4697-bfc5-852757517b5d",
   "metadata": {},
   "outputs": [
    {
     "data": {
      "text/plain": [
       "1.7885814036548633"
      ]
     },
     "execution_count": 4,
     "metadata": {},
     "output_type": "execute_result"
    }
   ],
   "source": [
    "#04\n",
    "np.std(height)"
   ]
  },
  {
   "cell_type": "code",
   "execution_count": null,
   "id": "f690bed0-23de-407a-993d-9808decfbea3",
   "metadata": {},
   "outputs": [],
   "source": [
    "# 05\n",
    "'''\n",
    "- Range: The range is the difference between the highest and lowest values in a dataset, giving a rough idea of how spread out the values are.\n",
    "\n",
    "- Variance: Variance measures the average squared deviation of each value from the mean, providing a more precise measure of spread.\n",
    "\n",
    "- Standard Deviation: The standard deviation is the square root of the variance and represents the average distance between each value and the mean, indicating the typical amount of dispersion in the dataset.\n",
    "\n",
    "Inshort, the range gives a basic understanding of spread, while variance and standard deviation provide more precise measures by considering the differences between each value and the mean. These measures help describe the spread of a dataset.\n",
    "\n",
    "\n",
    "\n",
    "'''\n"
   ]
  },
  {
   "cell_type": "code",
   "execution_count": null,
   "id": "a9784c96-9058-48a5-9278-74544a9192a1",
   "metadata": {},
   "outputs": [],
   "source": [
    "# 06\n",
    "'''\n",
    "A Venn diagram is a visual way to show how different groups or sets of things are related.\n",
    "It uses circles or shapes that overlap to demonstrate the similarities and differences between these groups.\n",
    "\n",
    "'''"
   ]
  },
  {
   "cell_type": "code",
   "execution_count": 5,
   "id": "ec587148-cbd3-45ca-bd6f-a36f87eb8727",
   "metadata": {},
   "outputs": [],
   "source": [
    "# 07\n",
    "a={2,3,4,5,6,7}\n",
    "b={0,2,6,8,10}\n",
    "\n",
    "union = a.union(b)"
   ]
  },
  {
   "cell_type": "code",
   "execution_count": 6,
   "id": "20f1c117-4565-46ec-af02-da20b03fdfc6",
   "metadata": {},
   "outputs": [
    {
     "name": "stdout",
     "output_type": "stream",
     "text": [
      "Union: {0, 2, 3, 4, 5, 6, 7, 8, 10}\n"
     ]
    }
   ],
   "source": [
    "print(\"Union of a & b is :\",union)"
   ]
  },
  {
   "cell_type": "code",
   "execution_count": 7,
   "id": "b4fd6c59-e956-48a1-bda1-1e0caa8c656e",
   "metadata": {},
   "outputs": [],
   "source": [
    "intersection = a.intersection(b)"
   ]
  },
  {
   "cell_type": "code",
   "execution_count": 8,
   "id": "f69282a1-3e91-463e-9237-44a9dbe9ee39",
   "metadata": {},
   "outputs": [
    {
     "name": "stdout",
     "output_type": "stream",
     "text": [
      "Intersection of a & b is: {2, 6}\n"
     ]
    }
   ],
   "source": [
    "print(\"Intersection of a & b is:\",intersection)"
   ]
  },
  {
   "cell_type": "code",
   "execution_count": 10,
   "id": "3800c08f-8df4-4689-bce3-0f239b7ce590",
   "metadata": {},
   "outputs": [],
   "source": [
    "# 08\n",
    "'''\n",
    "Skewness in data refers to the measure of imbalance or distortion in its distribution. \n",
    "If the data is skewed, it means that the distribution is not symmetrical, and one side has a longer or stretched-out portion compared to the other side.\n",
    "'''"
   ]
  },
  {
   "cell_type": "code",
   "execution_count": 11,
   "id": "51a3b3b3-83bc-4c2c-8d17-d9181f5bd792",
   "metadata": {},
   "outputs": [],
   "source": [
    "#09\n",
    "# In right-skewed data, the median is  lower than the mean."
   ]
  },
  {
   "cell_type": "code",
   "execution_count": 13,
   "id": "07f77038-5e45-409f-bd15-ec9c7a224492",
   "metadata": {},
   "outputs": [],
   "source": [
    "#10\n",
    "'''\n",
    "Covariance measures how two variables change together, while correlation measures the strength and direction of their linear relationship.\n",
    "Correlation is easier to understand as it is standardized and ranges between -1 and 1, indicating the strength of the relationship.\n",
    "\n",
    "\n",
    "'''\n"
   ]
  },
  {
   "cell_type": "code",
   "execution_count": null,
   "id": "3ce2d21c-4111-469e-be14-ecad7c3436f8",
   "metadata": {},
   "outputs": [],
   "source": [
    "# 11\n",
    "'''\n",
    "\n",
    "Mean=Sum of all values in the sampleNumber of values in the sample/Number of values in the sampleSum of all values in the sample​\n",
    "\n",
    "'''"
   ]
  },
  {
   "cell_type": "code",
   "execution_count": 17,
   "id": "2709935a-c7d4-40ed-b015-4a2eaa013b0a",
   "metadata": {},
   "outputs": [],
   "source": [
    "# 11\n",
    "import seaborn as sns\n",
    "df = sns.load_dataset('tip')"
   ]
  },
  {
   "cell_type": "code",
   "execution_count": 18,
   "id": "e39aa0b9-fdd1-45c3-9f60-6bf6ce9a8adc",
   "metadata": {},
   "outputs": [
    {
     "data": {
      "text/html": [
       "<div>\n",
       "<style scoped>\n",
       "    .dataframe tbody tr th:only-of-type {\n",
       "        vertical-align: middle;\n",
       "    }\n",
       "\n",
       "    .dataframe tbody tr th {\n",
       "        vertical-align: top;\n",
       "    }\n",
       "\n",
       "    .dataframe thead th {\n",
       "        text-align: right;\n",
       "    }\n",
       "</style>\n",
       "<table border=\"1\" class=\"dataframe\">\n",
       "  <thead>\n",
       "    <tr style=\"text-align: right;\">\n",
       "      <th></th>\n",
       "      <th>total_bill</th>\n",
       "      <th>tip</th>\n",
       "      <th>sex</th>\n",
       "      <th>smoker</th>\n",
       "      <th>day</th>\n",
       "      <th>time</th>\n",
       "      <th>size</th>\n",
       "    </tr>\n",
       "  </thead>\n",
       "  <tbody>\n",
       "    <tr>\n",
       "      <th>0</th>\n",
       "      <td>16.99</td>\n",
       "      <td>1.01</td>\n",
       "      <td>Female</td>\n",
       "      <td>No</td>\n",
       "      <td>Sun</td>\n",
       "      <td>Dinner</td>\n",
       "      <td>2</td>\n",
       "    </tr>\n",
       "    <tr>\n",
       "      <th>1</th>\n",
       "      <td>10.34</td>\n",
       "      <td>1.66</td>\n",
       "      <td>Male</td>\n",
       "      <td>No</td>\n",
       "      <td>Sun</td>\n",
       "      <td>Dinner</td>\n",
       "      <td>3</td>\n",
       "    </tr>\n",
       "    <tr>\n",
       "      <th>2</th>\n",
       "      <td>21.01</td>\n",
       "      <td>3.50</td>\n",
       "      <td>Male</td>\n",
       "      <td>No</td>\n",
       "      <td>Sun</td>\n",
       "      <td>Dinner</td>\n",
       "      <td>3</td>\n",
       "    </tr>\n",
       "    <tr>\n",
       "      <th>3</th>\n",
       "      <td>23.68</td>\n",
       "      <td>3.31</td>\n",
       "      <td>Male</td>\n",
       "      <td>No</td>\n",
       "      <td>Sun</td>\n",
       "      <td>Dinner</td>\n",
       "      <td>2</td>\n",
       "    </tr>\n",
       "    <tr>\n",
       "      <th>4</th>\n",
       "      <td>24.59</td>\n",
       "      <td>3.61</td>\n",
       "      <td>Female</td>\n",
       "      <td>No</td>\n",
       "      <td>Sun</td>\n",
       "      <td>Dinner</td>\n",
       "      <td>4</td>\n",
       "    </tr>\n",
       "  </tbody>\n",
       "</table>\n",
       "</div>"
      ],
      "text/plain": [
       "   total_bill   tip     sex smoker  day    time  size\n",
       "0       16.99  1.01  Female     No  Sun  Dinner     2\n",
       "1       10.34  1.66    Male     No  Sun  Dinner     3\n",
       "2       21.01  3.50    Male     No  Sun  Dinner     3\n",
       "3       23.68  3.31    Male     No  Sun  Dinner     2\n",
       "4       24.59  3.61  Female     No  Sun  Dinner     4"
      ]
     },
     "execution_count": 18,
     "metadata": {},
     "output_type": "execute_result"
    }
   ],
   "source": [
    "df.head()"
   ]
  },
  {
   "cell_type": "code",
   "execution_count": 20,
   "id": "c96018b7-d4a3-4419-8bec-1824aab0999d",
   "metadata": {},
   "outputs": [
    {
     "data": {
      "text/plain": [
       "2.99827868852459"
      ]
     },
     "execution_count": 20,
     "metadata": {},
     "output_type": "execute_result"
    }
   ],
   "source": [
    "np.mean(df['tip'])"
   ]
  },
  {
   "cell_type": "code",
   "execution_count": null,
   "id": "55dda03e-466d-4020-94cf-4a26fcacbdc0",
   "metadata": {},
   "outputs": [],
   "source": [
    "# 12\n",
    "# For a normal distribution, the mean, median, and mode are all equal.\n",
    "# They are located at the center of the distribution, and the shape of the distribution is symmetric.\n"
   ]
  },
  {
   "cell_type": "code",
   "execution_count": null,
   "id": "ddbb508b-4d6c-4720-8838-5caf91527c9b",
   "metadata": {},
   "outputs": [],
   "source": [
    "# 13\n",
    "'''\n",
    "Covariance measures how two variables change together, while correlation measures the strength and direction of their linear relationship. \n",
    "Covariance can have positive or negative values, while correlation is always between -1 and 1, where -1 represents a strong negative relationship, 1 represents a strong positive relationship, and 0 represents no linear relationship.\n",
    "\n",
    "\n",
    "'''"
   ]
  },
  {
   "cell_type": "code",
   "execution_count": 22,
   "id": "41653f2f-581d-4fc4-b20b-9e75e822ccd6",
   "metadata": {},
   "outputs": [],
   "source": [
    "# 14\n",
    "'''\n",
    "\n",
    "Outliers can distort measures of central tendency by pulling them towards extreme values and increase measures of dispersion, making them larger.\n",
    "\n",
    "'''"
   ]
  }
 ],
 "metadata": {
  "kernelspec": {
   "display_name": "Python 3 (ipykernel)",
   "language": "python",
   "name": "python3"
  },
  "language_info": {
   "codemirror_mode": {
    "name": "ipython",
    "version": 3
   },
   "file_extension": ".py",
   "mimetype": "text/x-python",
   "name": "python",
   "nbconvert_exporter": "python",
   "pygments_lexer": "ipython3",
   "version": "3.10.8"
  }
 },
 "nbformat": 4,
 "nbformat_minor": 5
}
