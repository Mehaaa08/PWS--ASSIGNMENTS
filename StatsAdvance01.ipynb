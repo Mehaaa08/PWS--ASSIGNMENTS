{
 "cells": [
  {
   "cell_type": "code",
   "execution_count": null,
   "id": "74657d37-4f97-449e-9ff0-6943f5a97b62",
   "metadata": {},
   "outputs": [],
   "source": [
    "# 01\n",
    "'''\n",
    "Probability Density Function:PDF is used to distribute data in continous random variable.\n",
    "\n",
    "'''"
   ]
  },
  {
   "cell_type": "code",
   "execution_count": null,
   "id": "09f9814b-f628-4216-bc48-f5aa68a3d1cc",
   "metadata": {},
   "outputs": [],
   "source": [
    "# 02\n",
    "'''\n",
    "Types of Distribution arr mentioned below:\n",
    "\n",
    "            1:Normal/Gaussiam Distribution.\n",
    "            2:Bernoulli Distribution.\n",
    "            3:Uniform Distribution.\n",
    "            4:Poisson Distribution.\n",
    "            5:Log Distribution.\n",
    "            6:Binomial Distribution.\n",
    "\n",
    "'''"
   ]
  },
  {
   "cell_type": "code",
   "execution_count": 4,
   "id": "46e30096-98f6-4b50-860c-fdd8da5d8285",
   "metadata": {},
   "outputs": [
    {
     "name": "stdout",
     "output_type": "stream",
     "text": [
      "The PDF at x=25 is: 0.04839414490382867\n"
     ]
    }
   ],
   "source": [
    "# 03\n",
    "import math\n",
    "\n",
    "def normal_pdf(x, mu, sigma):\n",
    "    \n",
    "    if sigma <= 0:\n",
    "        raise ValueError(\"Standard deviation (sigma) must be positive.\")\n",
    "\n",
    "    coefficient = 1 / math.sqrt(2 * math.pi * sigma**2)\n",
    "    exponent = -(x - mu)**2 / (2 * sigma**2)\n",
    "    pdf_value = coefficient * math.exp(exponent)\n",
    "\n",
    "    return pdf_value\n",
    "\n",
    "# Example usage\n",
    "mean = 30\n",
    "standard_deviation = 5\n",
    "point = 25\n",
    "\n",
    "pdf_value = normal_pdf(point, mean, standard_deviation)\n",
    "print(f\"The PDF at x={point} is: {pdf_value}\")\n",
    "\n"
   ]
  },
  {
   "cell_type": "code",
   "execution_count": null,
   "id": "49c7e6ed-009a-4851-b449-6303e7a7bea6",
   "metadata": {},
   "outputs": [],
   "source": [
    "# 04\n",
    "'''\n",
    "The Binomial distribution is a discrete probability distribution with fixed independent trials, constant probability of success, and two possible outcomes.\n",
    "Examples include calculating the probability of getting 5 heads in 10 coin tosses and determining the probability of having 3 defective bulbs out of 20 randomly selected bulbs in a production line.\n",
    "'''"
   ]
  },
  {
   "cell_type": "code",
   "execution_count": 6,
   "id": "6575e8ca-06e4-4083-bb7c-3cc2a2b23f02",
   "metadata": {},
   "outputs": [
    {
     "data": {
      "image/png": "[encoded data removed]",
      "text/plain": [
       "<Figure size 640x480 with 1 Axes>"
      ]
     },
     "metadata": {},
     "output_type": "display_data"
    }
   ],
   "source": [
    "# 05\n",
    "\n",
    "import numpy as np\n",
    "import matplotlib.pyplot as plt\n",
    "\n",
    "probability_of_success = 0.4\n",
    "sample_size = 1000\n",
    "\n",
    "random_sample = np.random.binomial(n=1, p=probability_of_success, size=sample_size)\n",
    "\n",
    "# Plot the histogram\n",
    "plt.hist(random_sample, bins=2, edgecolor='black', alpha=0.8)\n",
    "plt.xlabel('Success (1) / Failure (0)')\n",
    "plt.ylabel('Frequency')\n",
    "plt.title('Histogram of Random Sample from Binomial Distribution')\n",
    "plt.xticks([0, 1], ['Failure', 'Success'])\n",
    "plt.show()\n",
    "\n"
   ]
  },
  {
   "cell_type": "code",
   "execution_count": 8,
   "id": "fa5ee3d8-329a-4906-b2b9-212c123ddbf4",
   "metadata": {},
   "outputs": [
    {
     "name": "stdout",
     "output_type": "stream",
     "text": [
      "The CDF at k=3 with lambda=2.5 is: 0.7575761331330659\n"
     ]
    }
   ],
   "source": [
    "# 06\n",
    "import math\n",
    "\n",
    "def poisson_cdf(k, lambd):\n",
    "   \n",
    "    if k < 0:\n",
    "        raise ValueError(\"The point 'k' must be a non-negative integer.\")\n",
    "\n",
    "    cdf_value = 0\n",
    "    for i in range(k + 1):\n",
    "        cdf_value += math.exp(-lambd) * (lambd**i) / math.factorial(i)\n",
    "\n",
    "    return cdf_value\n",
    "\n",
    "mean_lambda = 2.5\n",
    "point_k = 3\n",
    "\n",
    "cdf_value = poisson_cdf(point_k, mean_lambda)\n",
    "print(f\"The CDF at k={point_k} with lambda={mean_lambda} is: {cdf_value}\")"
   ]
  },
  {
   "cell_type": "code",
   "execution_count": null,
   "id": "6793bbe2-adde-4bfc-bc8c-fe296b5db295",
   "metadata": {},
   "outputs": [],
   "source": [
    "# 07\n",
    "'''\n",
    "The Binomial distribution models the number of successes in a fixed number of independent trials,\n",
    "whereas the Poisson distribution models the number of events occurring in a fixed interval of time or space.\n",
    "\n",
    "\n",
    "'''"
   ]
  },
  {
   "cell_type": "code",
   "execution_count": 9,
   "id": "55081a25-cccd-4f79-8407-3f7e59193aa2",
   "metadata": {},
   "outputs": [
    {
     "name": "stdout",
     "output_type": "stream",
     "text": [
      "Sample mean: 4.969\n",
      "Sample variance: 4.716038999999999\n"
     ]
    }
   ],
   "source": [
    "# 08\n",
    "import numpy as np\n",
    "\n",
    "mean_lambda = 5\n",
    "sample_size = 1000\n",
    "\n",
    "\n",
    "random_sample = np.random.poisson(mean_lambda, size=sample_size)\n",
    "\n",
    "sample_mean = np.mean(random_sample)\n",
    "sample_variance = np.var(random_sample)\n",
    "\n",
    "print(f\"Sample mean: {sample_mean}\")\n",
    "print(f\"Sample variance: {sample_variance}\")\n"
   ]
  },
  {
   "cell_type": "code",
   "execution_count": null,
   "id": "0107a622-a538-409a-baab-857af733de66",
   "metadata": {},
   "outputs": [],
   "source": [
    "# 09\n",
    "'''\n",
    "How mean and variance are related in Binomial distribution and Poisson distribution?\n",
    "In both the Binomial and Poisson distributions, the mean (expected value) is equal to the variance. For a Binomial distribution with parameters n (number of trials) and p (probability of success), the mean and variance are given by:\n",
    "\n",
    "Mean = n * p\n",
    "Variance = n * p * (1 - p)\n",
    "\n",
    "For a Poisson distribution with mean lambda, the mean and variance are both equal to lambda.\n",
    "\n",
    "\n",
    "'''"
   ]
  },
  {
   "cell_type": "code",
   "execution_count": null,
   "id": "d02b1757-b1ae-4139-9d9c-edda965b7b9e",
   "metadata": {},
   "outputs": [],
   "source": [
    "# 10\n",
    "'''\n",
    "n a normal distribution, the least frequent data appears in the tails, which are located at the extremes of the distribution, farthest away from the mean.\n",
    "The tails represent the values that are less probable to occur. The data becomes increasingly less frequent as you move farther away from the mean in both the left (negative) and right (positive) directions along the horizontal axis of the normal distribution curve.\n",
    "\n",
    "\n",
    "'''"
   ]
  },
  {
   "cell_type": "code",
   "execution_count": null,
   "id": "d6483ba2-ac52-403e-b750-8a57c5461ead",
   "metadata": {},
   "outputs": [],
   "source": []
  },
  {
   "cell_type": "code",
   "execution_count": null,
   "id": "3e2b1913-912a-481e-b5a6-9ccafe6fcde9",
   "metadata": {},
   "outputs": [],
   "source": []
  }
 ],
 "metadata": {
  "kernelspec": {
   "display_name": "Python 3 (ipykernel)",
   "language": "python",
   "name": "python3"
  },
  "language_info": {
   "codemirror_mode": {
    "name": "ipython",
    "version": 3
   },
   "file_extension": ".py",
   "mimetype": "text/x-python",
   "name": "python",
   "nbconvert_exporter": "python",
   "pygments_lexer": "ipython3",
   "version": "3.10.8"
  }
 },
 "nbformat": 4,
 "nbformat_minor": 5
}
