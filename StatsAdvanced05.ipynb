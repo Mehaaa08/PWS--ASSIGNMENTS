{
 "cells": [
  {
   "cell_type": "code",
   "execution_count": 1,
   "id": "78578991-2a2c-4114-aaaf-888e6d11430b",
   "metadata": {},
   "outputs": [
    {
     "name": "stdout",
     "output_type": "stream",
     "text": [
      "95% Confidence Interval: (49.02001800772997, 50.97998199227003)\n"
     ]
    }
   ],
   "source": [
    "# 01\n",
    "\n",
    "import scipy.stats as stats\n",
    "\n",
    "# Given data\n",
    "mean = 50\n",
    "std_dev = 5\n",
    "sample_size = 100\n",
    "\n",
    "\n",
    "standard_error = std_dev / (sample_size ** 0.5)\n",
    "\n",
    "confidence_interval = stats.norm.interval(0.95, loc=mean, scale=standard_error)\n",
    "\n",
    "print(\"95% Confidence Interval:\", confidence_interval)\n"
   ]
  },
  {
   "cell_type": "code",
   "execution_count": 5,
   "id": "4f20bb5f-b523-4e00-be9e-1f989669db29",
   "metadata": {},
   "outputs": [],
   "source": [
    "# 02\n",
    "\n",
    "import scipy.stats  as stat\n",
    "import numpy as np"
   ]
  },
  {
   "cell_type": "code",
   "execution_count": 7,
   "id": "84dd9bf4-9d42-4ba1-b0de-12a3913182e2",
   "metadata": {},
   "outputs": [],
   "source": [
    "expected_data = [0.2, 0.2, 0.2, 0.1, 0.1, 0.2]\n",
    "observed_data = [20,20,20,10,10,20]\n"
   ]
  },
  {
   "cell_type": "code",
   "execution_count": 9,
   "id": "84dd0a37-2aa3-4e9c-9c78-e2356c5d5651",
   "metadata": {},
   "outputs": [],
   "source": [
    "total_mms = np.sum(observed_data)\n",
    "\n"
   ]
  },
  {
   "cell_type": "code",
   "execution_count": 10,
   "id": "482a5b2b-e097-4471-b8d2-2856ecef1a5a",
   "metadata": {},
   "outputs": [],
   "source": [
    "expected_frequencies = np.array(expected_data) * total_mms\n"
   ]
  },
  {
   "cell_type": "code",
   "execution_count": 11,
   "id": "fc2634fb-15e0-48e8-a471-8cc60d34bcd1",
   "metadata": {},
   "outputs": [],
   "source": [
    "chisquare_test_statistic, p_value = stat.chisquare(observed_data, expected_frequencies)"
   ]
  },
  {
   "cell_type": "code",
   "execution_count": 12,
   "id": "0887f4bb-47a1-4a2f-aea7-378d56e8d4b6",
   "metadata": {},
   "outputs": [
    {
     "name": "stdout",
     "output_type": "stream",
     "text": [
      "The distribution of colors in the bag matches the expected distribution.\n"
     ]
    }
   ],
   "source": [
    "alpha = 0.05\n",
    "\n",
    "if p_value < alpha:\n",
    "    print(\"The distribution of colors in the bag does not match the expected distribution.\")\n",
    "else:\n",
    "    print(\"The distribution of colors in the bag matches the expected distribution.\")\n"
   ]
  },
  {
   "cell_type": "code",
   "execution_count": 15,
   "id": "220c81d1-0adf-4a3d-b0a1-4989b2938325",
   "metadata": {},
   "outputs": [
    {
     "name": "stdout",
     "output_type": "stream",
     "text": [
      "P-value: 1.0\n"
     ]
    }
   ],
   "source": [
    "print(\"P-value:\", p_value)"
   ]
  },
  {
   "cell_type": "code",
   "execution_count": 16,
   "id": "edb59789-c23b-41a9-ad26-39db37920328",
   "metadata": {},
   "outputs": [],
   "source": [
    "# 03:\n"
   ]
  },
  {
   "cell_type": "code",
   "execution_count": 17,
   "id": "d1362960-4497-4c2b-a448-7d45dfcb67c9",
   "metadata": {},
   "outputs": [],
   "source": [
    "# 04\n",
    "import numpy as np\n"
   ]
  },
  {
   "cell_type": "code",
   "execution_count": 18,
   "id": "cc1e64ec-9e07-4d08-bb59-67eae0968f7b",
   "metadata": {},
   "outputs": [],
   "source": [
    "total_individuals = 500\n",
    "smokers = 60\n"
   ]
  },
  {
   "cell_type": "code",
   "execution_count": 19,
   "id": "0791a6ed-da82-471b-ba4d-fd9a763f09ab",
   "metadata": {},
   "outputs": [],
   "source": [
    "# Calculate the sample proportion & critical  value\n",
    "sample_proportion = smokers / total_individuals\n",
    "confidence_level = 0.95\n",
    "Z = 1.96\n"
   ]
  },
  {
   "cell_type": "code",
   "execution_count": 22,
   "id": "4065215b-df10-433e-b500-d1e13fc87fb5",
   "metadata": {},
   "outputs": [],
   "source": [
    "# standarc of error\n",
    "standard_error = np.sqrt((sample_proportion * (1 - sample_proportion)) / total_individuals)\n"
   ]
  },
  {
   "cell_type": "code",
   "execution_count": 23,
   "id": "e9ce7a72-1a17-4dca-9c6a-85bda60170d3",
   "metadata": {},
   "outputs": [],
   "source": [
    "lower_bound = sample_proportion - Z * standard_error\n",
    "upper_bound = sample_proportion + Z * standard_error\n"
   ]
  },
  {
   "cell_type": "code",
   "execution_count": 24,
   "id": "7b9ae4f2-308c-43e3-81b7-373034b2f4b1",
   "metadata": {},
   "outputs": [
    {
     "name": "stdout",
     "output_type": "stream",
     "text": [
      "95% Confidence Interval: [0.09151586546865079, 0.1484841345313492]\n"
     ]
    }
   ],
   "source": [
    "print(\"95% Confidence Interval: [{}, {}]\".format(lower_bound, upper_bound))\n"
   ]
  },
  {
   "cell_type": "code",
   "execution_count": 25,
   "id": "11d83d45-b96c-4a17-9058-3a4c57034383",
   "metadata": {},
   "outputs": [],
   "source": [
    "# 05\n",
    "import scipy.stats as stats"
   ]
  },
  {
   "cell_type": "code",
   "execution_count": 26,
   "id": "20d154ef-a574-4632-a05e-c76ba5499693",
   "metadata": {},
   "outputs": [],
   "source": [
    "sample_mean = 75\n",
    "sample_std_dev = 12\n",
    "sample_size = 30"
   ]
  },
  {
   "cell_type": "code",
   "execution_count": 27,
   "id": "cfcc82c3-6f4d-4d5f-acf8-d75ac4d70abd",
   "metadata": {},
   "outputs": [],
   "source": [
    "confidence_level = 0.90\n",
    "degrees_of_freedom = sample_size - 1\n",
    "t_value = stats.t.ppf(1 - (1 - confidence_level) / 2, df=degrees_of_freedom)"
   ]
  },
  {
   "cell_type": "code",
   "execution_count": 28,
   "id": "7217450c-714d-4262-9d5d-a6504ed4ae52",
   "metadata": {},
   "outputs": [],
   "source": [
    "standard_error = sample_std_dev / (sample_size ** 0.5)\n",
    "lower_bound = sample_mean - t_value * standard_error\n",
    "upper_bound = sample_mean + t_value * standard_error"
   ]
  },
  {
   "cell_type": "code",
   "execution_count": 33,
   "id": "9152c212-dffe-4502-8e16-75e30c242f75",
   "metadata": {},
   "outputs": [
    {
     "name": "stdout",
     "output_type": "stream",
     "text": [
      "90% Confidence Interval: [71.27739919800369, 78.72260080199631]\n"
     ]
    }
   ],
   "source": [
    "print(\"90% Confidence Interval: [{}, {}]\".format(lower_bound, upper_bound))\n"
   ]
  },
  {
   "cell_type": "code",
   "execution_count": 30,
   "id": "f47e5f78-503c-41c9-991d-f1b475842dfb",
   "metadata": {},
   "outputs": [
    {
     "data": {
      "image/png": "[encoded data removed]",
      "text/plain": [
       "<Figure size 640x480 with 1 Axes>"
      ]
     },
     "metadata": {},
     "output_type": "display_data"
    }
   ],
   "source": [
    "# 06\n",
    "\n",
    "import numpy as np\n",
    "import matplotlib.pyplot as plt\n",
    "import scipy.stats as stats\n",
    "\n",
    "# given info\n",
    "degrees_of_freedom = 10\n",
    "chi_square_dist = stats.chi2(df=degrees_of_freedom)\n",
    "\n",
    "x = np.linspace(0, 30, 500)\n",
    "\n",
    "# Plot the chi-square distribution\n",
    "plt.plot(x, chi_square_dist.pdf(x), label='Chi-square (10 df)')\n",
    "\n",
    "# Shade the area corresponding to a chi-square statistic of 15\n",
    "x_fill = np.linspace(15, 30, 500)\n",
    "plt.fill_between(x_fill, chi_square_dist.pdf(x_fill), alpha=0.5)\n",
    "\n",
    "# Label the axes\n",
    "plt.xlabel('Chi-square Statistic')\n",
    "plt.ylabel('Probability Density Function')\n",
    "plt.title('Chi-square Distribution with 10 Degrees of Freedom')\n",
    "\n",
    "# Show the plot\n",
    "plt.legend()\n",
    "plt.grid(True)\n",
    "plt.show()\n"
   ]
  },
  {
   "cell_type": "code",
   "execution_count": 31,
   "id": "42e37b19-82dd-4f5d-b00d-a8f4b3ce5208",
   "metadata": {},
   "outputs": [],
   "source": [
    "# 07\n",
    "import numpy as np\n",
    "import scipy.stats as stats"
   ]
  },
  {
   "cell_type": "code",
   "execution_count": 32,
   "id": "1d294a6f-b54f-489b-91d4-94dd5bba56a2",
   "metadata": {},
   "outputs": [],
   "source": [
    " # Given data\n",
    "total_people = 1000\n",
    "coke_preferred = 520\n"
   ]
  },
  {
   "cell_type": "code",
   "execution_count": 34,
   "id": "c783fcd1-c56a-4cdc-be98-675ce56bdc4d",
   "metadata": {},
   "outputs": [],
   "source": [
    "\n",
    "\n",
    "sample_proportion = coke_preferred / total_people\n",
    "confidence_level = 0.99\n",
    "Z = stats.norm.ppf(1 - (1 - confidence_level) / 2)\n",
    "\n",
    "# Calculate the standard error of the proportion\n",
    "standard_error = np.sqrt((sample_proportion * (1 - sample_proportion)) / total_people)\n",
    "\n",
    "\n",
    "lower_bound = sample_proportion - Z * standard_error\n",
    "upper_bound = sample_proportion + Z * standard_error"
   ]
  },
  {
   "cell_type": "code",
   "execution_count": 35,
   "id": "7f025f33-ee05-4b94-91b2-514ba4e671bf",
   "metadata": {},
   "outputs": [
    {
     "name": "stdout",
     "output_type": "stream",
     "text": [
      "99% Confidence Interval: [0.4793051576779699, 0.5606948423220302]\n"
     ]
    }
   ],
   "source": [
    "print(\"99% Confidence Interval: [{}, {}]\".format(lower_bound, upper_bound))"
   ]
  },
  {
   "cell_type": "code",
   "execution_count": 36,
   "id": "603144b5-7e71-4113-baa4-fec0182340c4",
   "metadata": {},
   "outputs": [],
   "source": [
    "# 08\n",
    "import numpy as np\n",
    "import scipy.stats as stats\n"
   ]
  },
  {
   "cell_type": "code",
   "execution_count": 37,
   "id": "5c1897c5-aef7-40bd-b652-2f25c32c548d",
   "metadata": {},
   "outputs": [],
   "source": [
    "# Given data\n",
    "total_flips = 100\n",
    "observed_tails = 45\n",
    "expected_tails = total_flips * 0.5  # Expected tails for a fair coin"
   ]
  },
  {
   "cell_type": "code",
   "execution_count": 38,
   "id": "402e9cd2-9d8e-41df-9011-048b9cb557fb",
   "metadata": {},
   "outputs": [],
   "source": [
    "# Observed frequencies\n",
    "observed_frequencies = np.array([observed_tails, total_flips - observed_tails])\n",
    "\n",
    "# Expected frequencies for a fair coin\n",
    "expected_frequencies = np.array([expected_tails, total_flips - expected_tails])\n",
    "\n",
    "# Perform the chi-square test\n",
    "chisquare_test_statistic, p_value = stats.chisquare(observed_frequencies, f_exp=expected_frequencies)\n"
   ]
  },
  {
   "cell_type": "code",
   "execution_count": 39,
   "id": "252074da-1451-4dec-9a09-0573c2aff27c",
   "metadata": {},
   "outputs": [
    {
     "name": "stdout",
     "output_type": "stream",
     "text": [
      "The coin is fair. Fail to reject the null hypothesis.\n",
      "Chi-square test statistic: 1.0\n",
      "P-value: 0.31731050786291115\n"
     ]
    }
   ],
   "source": [
    "\n",
    "alpha = 0.05\n",
    "\n",
    "# Check the result\n",
    "if p_value < alpha:\n",
    "    print(\"The coin is biased towards tails. Reject the null hypothesis.\")\n",
    "else:\n",
    "    print(\"The coin is fair. Fail to reject the null hypothesis.\")\n",
    "\n",
    "# Print the chi-square test statistic and p-value\n",
    "print(\"Chi-square test statistic:\", chisquare_test_statistic)\n",
    "print(\"P-value:\", p_value)\n"
   ]
  },
  {
   "cell_type": "code",
   "execution_count": 40,
   "id": "1c62db3a-60b5-4e0c-8957-26c03a38629b",
   "metadata": {},
   "outputs": [],
   "source": [
    "# 09\n"
   ]
  },
  {
   "cell_type": "code",
   "execution_count": null,
   "id": "c41d9e60-ce38-4877-b1ec-6ce24732c38d",
   "metadata": {},
   "outputs": [],
   "source": []
  }
 ],
 "metadata": {
  "kernelspec": {
   "display_name": "Python 3 (ipykernel)",
   "language": "python",
   "name": "python3"
  },
  "language_info": {
   "codemirror_mode": {
    "name": "ipython",
    "version": 3
   },
   "file_extension": ".py",
   "mimetype": "text/x-python",
   "name": "python",
   "nbconvert_exporter": "python",
   "pygments_lexer": "ipython3",
   "version": "3.10.8"
  }
 },
 "nbformat": 4,
 "nbformat_minor": 5
}
